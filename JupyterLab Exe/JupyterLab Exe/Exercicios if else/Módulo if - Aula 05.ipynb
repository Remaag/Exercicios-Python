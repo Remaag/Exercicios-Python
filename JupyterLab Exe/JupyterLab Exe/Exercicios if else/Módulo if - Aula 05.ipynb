{
 "cells": [
  {
   "cell_type": "markdown",
   "metadata": {},
   "source": [
    "# Casos com várias condições/comparações\n",
    "\n",
    "### Estrutura:\n",
    "\n",
    "Quando temos várias comparações, ao invés de criar if dentro de if podemos usar os operadores \"and\" e \"or\" para tratar essas condições.\n",
    "\n",
    "Funciona assim:"
   ]
  },
  {
   "cell_type": "raw",
   "metadata": {},
   "source": [
    "if condicao_1 and condicao_2:\n",
    "    vai ser executado se as 2 condições forem verdadeiras ao mesmo tempo\n",
    "\n",
    "outro caso:\n",
    "\n",
    "if condicao_1 or condicao_2:\n",
    "    vai ser executado se pelo menos uma das condições forem verdadeiras"
   ]
  },
  {
   "cell_type": "markdown",
   "metadata": {},
   "source": [
    "### Exemplo\n",
    "\n",
    "Vamos voltar ao exemplo de cálculo de meta de vendas dos funcionários. Muitas empresas atribuem bonificação do salário dos funcionários de acordo com o resultado do funcionário e também com o resultado da empresa como um todo.\n",
    "\n",
    "Nesse caso, a regra funciona da seguinte forma:\n",
    "- Se o funcionário vendeu mais do que a meta de vendas e a loja bateu a meta de vendas da loja, o funcionário ganha 3% do que ele vendeu em forma de bônus.\n",
    "- Caso o funcionário tenha batido a meta de vendas individual dele, mas a loja não tenha batido a meta de vendas da loja como um todo, o funcionário não ganha bônus."
   ]
  },
  {
   "cell_type": "code",
   "execution_count": 2,
   "metadata": {},
   "outputs": [
    {
     "name": "stdout",
     "output_type": "stream",
     "text": [
      "Qual foi o valor vendido pela loja1\n",
      "Qual foi o valor vendido pelo vendedor300000000000\n",
      "Onwt que peninha, alguém não parece ter vendido o suficiente. Da Proxima se esforce mais\n"
     ]
    }
   ],
   "source": [
    "metaLoja = 90000\n",
    "metaVendedor = 20000\n",
    "\n",
    "vendasLoja = float ( input ('Qual foi o valor vendido pela loja'))\n",
    "vendasVendedor = float ( input ('Qual foi o valor vendido pelo vendedor'))\n",
    "\n",
    "if vendasLoja >= metaLoja and vendasVendedor >= metaVendedor :\n",
    "    print ('Seu bonus de miseros 3% está garantido este mês, agora volte a trabalhar e nos dê mais dinheiro pelo seu suor')\n",
    "else :\n",
    "    print ('Onwt que peninha, alguém não parece ter vendido o suficiente. Da Proxima se esforce mais')"
   ]
  },
  {
   "cell_type": "markdown",
   "metadata": {},
   "source": [
    "### Outro exemplo\n",
    "\n",
    "Agora vamos levar essa análise mais a fundo.\n",
    "\n",
    "Nessa empresa, existe um outro caso também que garante que o funcionário ganhe um bônus, independente das vendas que ele fez naquele mês.\n",
    "\n",
    "Todo mês os diretores da empresa fazem uma avaliação qualitativa de todos os funcionários. Nessa avaliação os diretores dão uma nota de 0 a 10 para cada funcionário. Se a nota do funcionário for 9 ou 10, ele também ganha o bônus de 3% do valor de vendas. (os bônus não são cumulativos)"
   ]
  },
  {
   "cell_type": "code",
   "execution_count": 5,
   "metadata": {},
   "outputs": [
    {
     "name": "stdout",
     "output_type": "stream",
     "text": [
      "Qual foi o valor vendido pela loja0\n",
      "Qual foi o valor vendido pelo vendedor0\n",
      "Este vendedor foi avaliado com quantas estrelas?0\n",
      "Onwt que peninha, alguém não parece ter vendido o suficiente. Da Proxima se esforce mais\n"
     ]
    }
   ],
   "source": [
    "metaLoja = 90000\n",
    "metaVendedor = 20000\n",
    "\n",
    "vendasLoja = float ( input ('Qual foi o valor vendido pela loja'))\n",
    "vendasVendedor = float ( input ('Qual foi o valor vendido pelo vendedor'))\n",
    "estrelinha = float ( input ('Este vendedor foi avaliado com quantas estrelas?'))\n",
    "\n",
    "if vendasLoja >= metaLoja and vendasVendedor >= metaVendedor :\n",
    "    print ('Seu bonus de miseros 3% está garantido este mês, agora volte a trabalhar e nos dê mais dinheiro pelo seu suor')\n",
    "elif estrelinha >= 9 :\n",
    "    print ('Humm, não sei se você bateu a meta ou não, mas pelo visto os diretores estão satisfeitos com você, Não deixe isso subir sua cabeça *Recebeu 3% de bonus*')\n",
    "else :\n",
    "    print ('Onwt que peninha, alguém não parece ter vendido o suficiente. Da Proxima se esforce mais')"
   ]
  }
 ],
 "metadata": {
  "kernelspec": {
   "display_name": "Python 3 (ipykernel)",
   "language": "python",
   "name": "python3"
  },
  "language_info": {
   "codemirror_mode": {
    "name": "ipython",
    "version": 3
   },
   "file_extension": ".py",
   "mimetype": "text/x-python",
   "name": "python",
   "nbconvert_exporter": "python",
   "pygments_lexer": "ipython3",
   "version": "3.11.3"
  }
 },
 "nbformat": 4,
 "nbformat_minor": 4
}
