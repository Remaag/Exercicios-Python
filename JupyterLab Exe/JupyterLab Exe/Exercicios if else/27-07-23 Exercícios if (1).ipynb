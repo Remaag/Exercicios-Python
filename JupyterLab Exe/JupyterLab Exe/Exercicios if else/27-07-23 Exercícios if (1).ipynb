{
 "cells": [
  {
   "cell_type": "markdown",
   "metadata": {},
   "source": [
    "# Exercícios com if"
   ]
  },
  {
   "cell_type": "markdown",
   "metadata": {},
   "source": [
    "## 1. Cálculo de Bônus\n",
    "\n",
    "- Crie um programa que calcule e dê um print no bônus que os funcionários devem receber segundo a regra:\n",
    "\n",
    "A meta é 1000 vendas.<br> \n",
    "Se o valor de vendas for maior ou igual a meta, o valor do bônus do funcionário é 10% do valor de vendas.<br>\n",
    "Caso contrário o valor de bônus do funcionário é 0.<br>\n",
    "Print o bônus dos 3 funcionários"
   ]
  },
  {
   "cell_type": "code",
   "execution_count": 10,
   "metadata": {},
   "outputs": [
    {
     "name": "stdout",
     "output_type": "stream",
     "text": [
      "Nome do vendedor: (em minusculo) lara\n",
      "\n",
      "        Nome: lara.\n",
      "        Valor vendido no mês: 2700.\n",
      "        Bônus a ser aplicado: 10%.\n",
      "        bônus recebido: R$ 270,00.\n",
      "        Valor do pagamento: 1770,00.\n",
      "    \n"
     ]
    }
   ],
   "source": [
    "# Variaveis dos funcionarios\n",
    "marcos = 1000\n",
    "julia = 770\n",
    "lara = 2700\n",
    "\n",
    "# meta a ser batida\n",
    "meta = 1000\n",
    "\n",
    "#salario base do vendedor\n",
    "salario = 1500\n",
    "\n",
    "# pegando o nome do vendedor\n",
    "vendedor = input ('Nome do vendedor: (em minusculo) ')\n",
    "\n",
    "# verificando se o nome informado no input corresponde com algum no sistema. Se sim, atribui o valor vendido para a nova variavel\n",
    "if 'lara' in vendedor :\n",
    "    valorVenda = lara\n",
    "    \n",
    "elif 'julia' in vendedor :\n",
    "    valorVenda = julia\n",
    "    \n",
    "elif 'marcos' in vendedor :\n",
    "    valorVenda = marcos\n",
    "    \n",
    "else :\n",
    "    print ('Vendedor não encontrado no sistema, verifique o nome informado e tente novamente.')\n",
    "    \n",
    "# calculando quanto de bonus o vendedor irá receber\n",
    "bonus = valorVenda * 0.10\n",
    "bonus = int(bonus)\n",
    "\n",
    "# inprimindo as informações do vendedor baseando-se no valor da venda\n",
    "if valorVenda >= meta :\n",
    "    print (f\"\"\"\n",
    "        Nome: {vendedor}.\n",
    "        Valor vendido no mês: {valorVenda}.\n",
    "        Bônus a ser aplicado: 10%.\n",
    "        bônus recebido: R$ {bonus},00.\n",
    "        Valor do pagamento: {salario + bonus},00.\n",
    "    \"\"\")\n",
    "else :\n",
    "    print (f\"\"\"\n",
    "        Nome: {vendedor}.\n",
    "        Valor vendido no mês: {valorVenda}.\n",
    "        Bônus a ser aplicado: 0%.\n",
    "        bônus recebido: R$ 0,00.\n",
    "        Valor do pagamento: {salario},00.\n",
    "    \"\"\")"
   ]
  },
  {
   "cell_type": "raw",
   "metadata": {},
   "source": [
    "Resposta:\n",
    "O funcionário 1 ganhou 100 de bônus\n",
    "O funcionário 2 ganhou 0 de bônus\n",
    "O funcionário 3 ganhou 270 de bônus"
   ]
  },
  {
   "cell_type": "markdown",
   "metadata": {},
   "source": [
    "## 2. Cálculo de bônus com uma nova regra\n",
    "\n",
    "- Agora, crie um novo código que calcule e dê um print no bônus dos funcionários novamente. Porém há uma nova regra nesse 2º caso:\n",
    "\n",
    "A meta é 1000 vendas<br>\n",
    "Agora, os funcionários que venderem muito acima da meta ganham mais bônus do que os outros. Então o bônus é definido da seguinte forma:<br>\n",
    "\n",
    "- Se vendas funcionário for maior ou igual a 2000, então o bônus é de 15% sobre o valor de vendas\n",
    "- Se vendas funcionário for menor do que 2000 e maior ou igual a 1000, então o bônus é de 10% sobre o valor de vendas\n",
    "- Se vendas funcionário for menos do que 1000 então o bônus do funcionário é de 0.\n",
    "\n",
    "Use as mesmas variáveis de vendas_funcionários"
   ]
  },
  {
   "cell_type": "code",
   "execution_count": 6,
   "metadata": {},
   "outputs": [
    {
     "name": "stdout",
     "output_type": "stream",
     "text": [
      "Nome do vendedor: (em minusculo) marcos\n",
      "\n",
      "        Nome: marcos.\n",
      "        Valor vendido no mês: 1000.\n",
      "        Vendas feitas no mês: 700.\n",
      "        Bônus a ser aplicado: 10%.\n",
      "        Bônus recebido: R$ 100,00.\n",
      "        Valor do pagamento: 1650,00.\n",
      "    \n"
     ]
    }
   ],
   "source": [
    "# nova formula de bonus\n",
    "# Variaveis dos funcionarios\n",
    "marcos = 1000\n",
    "vendasMarcos = 700\n",
    "julia = 770\n",
    "vendasJulia = 300\n",
    "lara = 2700\n",
    "vendasLara = 1000\n",
    "\n",
    "# salario base dos vendedores\n",
    "salario = 1500\n",
    "\n",
    "# meta a ser batida\n",
    "meta = 1000\n",
    "metaVendas = 1000\n",
    "\n",
    "# pegando o nome do vendedor\n",
    "vendedor = input ('Nome do vendedor: (em minusculo) ')\n",
    "\n",
    "# verificando se o nome informado no input corresponde com algum no sistema. Se sim, atribui o valor vendido para a nova variavel\n",
    "if 'lara' in vendedor :\n",
    "    valorVenda = lara\n",
    "    vendasVendedor = vendasLara\n",
    "    \n",
    "elif 'julia' in vendedor :\n",
    "    valorVenda = julia\n",
    "    vendasVendedor = vendasJulia\n",
    "    \n",
    "elif 'marcos' in vendedor :\n",
    "    valorVenda = marcos\n",
    "    vendasVendedor = vendasMarcos\n",
    "    \n",
    "else :\n",
    "    print ('Vendedor não encontrado no sistema, verifique o nome informado e tente novamente')\n",
    "    \n",
    "\n",
    "# inprimindo as informações do vendedor baseando-se no valor da venda\n",
    "if vendasVendedor >= metaVendas :\n",
    "    print (f\"\"\"\n",
    "        Nome: {vendedor}.\n",
    "        Valor vendido no mês: {valorVenda}.\n",
    "        Vendas feitas no mês: {vendasVendedor}.\n",
    "        Bônus a ser aplicado: 15%.\n",
    "        Bônus recebido: R$ {int(valorVenda * 0.15)},00.\n",
    "        Valor do pagamento: {salario + int(valorVenda * 0.15)},00.\n",
    "    \"\"\")\n",
    "\n",
    "elif valorVenda >= meta :\n",
    "    print (f\"\"\"\n",
    "        Nome: {vendedor}.\n",
    "        Valor vendido no mês: {valorVenda}.\n",
    "        Vendas feitas no mês: {vendasVendedor}.\n",
    "        Bônus a ser aplicado: 10%.\n",
    "        Bônus recebido: R$ {int(valorVenda * 0.10)},00.\n",
    "        Valor do pagamento: {salario + int(valorVenda * 0.15)},00.\n",
    "    \"\"\")\n",
    "     \n",
    "else :\n",
    "    print (f\"\"\"\n",
    "        Nome: {vendedor}.\n",
    "        Valor vendido no mês: {valorVenda}.\n",
    "        Vendas feitas no mês: {vendasVendedor}.\n",
    "        Bônus a ser aplicado: 0%.\n",
    "        Bônus recebido: R$ 0,00.\n",
    "        Valor do pagamento: {salario},00.\n",
    "    \"\"\")"
   ]
  },
  {
   "cell_type": "raw",
   "metadata": {},
   "source": [
    "Resposta:\n",
    "O funcionário 1 ganhou 100 de bônus\n",
    "O funcionário 2 ganhou 0 de bônus\n",
    "O funcionário 3 ganhou 405 de bônus"
   ]
  }
 ],
 "metadata": {
  "kernelspec": {
   "display_name": "Python 3 (ipykernel)",
   "language": "python",
   "name": "python3"
  },
  "language_info": {
   "codemirror_mode": {
    "name": "ipython",
    "version": 3
   },
   "file_extension": ".py",
   "mimetype": "text/x-python",
   "name": "python",
   "nbconvert_exporter": "python",
   "pygments_lexer": "ipython3",
   "version": "3.11.3"
  }
 },
 "nbformat": 4,
 "nbformat_minor": 4
}
