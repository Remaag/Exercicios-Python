{
 "cells": [
  {
   "cell_type": "markdown",
   "id": "a220e4e2",
   "metadata": {},
   "source": [
    "# Exercícios do Módulo 5 - Metódo .format"
   ]
  },
  {
   "cell_type": "markdown",
   "id": "737f7ee0",
   "metadata": {},
   "source": [
    "## Crie programas em python para atender as especificações abaixo."
   ]
  },
  {
   "cell_type": "markdown",
   "id": "33904d99",
   "metadata": {},
   "source": [
    "#####\n",
    "\n",
    "\n",
    "\n",
    "\n",
    "\n",
    "\n"
   ]
  },
  {
   "cell_type": "markdown",
   "id": "6f2fae2c",
   "metadata": {},
   "source": [
    "####"
   ]
  },
  {
   "cell_type": "markdown",
   "id": "b9d7d65b",
   "metadata": {},
   "source": [
    "# 1 - Faça um programa que peça o nome de um país, a capital e o idioma oficial e exiba uma mensagem com essas informações."
   ]
  },
  {
   "cell_type": "code",
   "execution_count": 2,
   "id": "1b62af10",
   "metadata": {},
   "outputs": [
    {
     "name": "stdout",
     "output_type": "stream",
     "text": [
      "Informe o nome de um país brasil\n",
      "Agora informe a capital deste país brasilia\n",
      "Qual o idioma usado nesse país? porgues\n",
      "A capital de brasil é brasilia, e o idioma nativo é o porgues\n"
     ]
    }
   ],
   "source": [
    "pais = input ('Informe o nome de um país ')\n",
    "capital = input ('Agora informe a capital deste país ')\n",
    "idioma = input ('Qual o idioma usado nesse país? ')\n",
    "\n",
    "print ('A capital de {} é {}, e o idioma nativo é o {}' .format(pais, capital, idioma)) "
   ]
  },
  {
   "cell_type": "markdown",
   "id": "5d617672",
   "metadata": {},
   "source": [
    "# 2 - Escreva um programa que peça dois números e exiba a soma deles."
   ]
  },
  {
   "cell_type": "code",
   "execution_count": 5,
   "id": "2c842c57",
   "metadata": {},
   "outputs": [
    {
     "name": "stdout",
     "output_type": "stream",
     "text": [
      "Iforme um numero para soma 9\n",
      "Informe mais um numero 9\n",
      "A soma entre 9.0 e 9.0 resulta em: 18.0\n"
     ]
    }
   ],
   "source": [
    "n1 = float (input ('Iforme um numero para soma '))\n",
    "n2 = float (input ('Informe mais um numero '))\n",
    "soma = n1 + n2\n",
    "\n",
    "print ('A soma entre {} e {} resulta em: {}' .format (n1, n2, soma))"
   ]
  },
  {
   "cell_type": "markdown",
   "id": "78770cac",
   "metadata": {},
   "source": [
    "# 3 - Faça um programa que solicite o nome e a idade do usuário e exiba uma mensagem personalizada."
   ]
  },
  {
   "cell_type": "code",
   "execution_count": 7,
   "id": "85cc64da",
   "metadata": {},
   "outputs": [
    {
     "name": "stdout",
     "output_type": "stream",
     "text": [
      "Qual seu nome? jamily\n",
      "Qual sua idade? 20\n",
      "Olá jamily, prazer em conhece-lo (a). Você tem 20 anos?? Ta velho em fi\n"
     ]
    }
   ],
   "source": [
    "nome = input ('Qual seu nome? ')\n",
    "idade = input ('Qual sua idade? ')\n",
    "\n",
    "print ('Olá {}, prazer em conhece-lo (a). Você tem {} anos?? Ta velho em fi' .format (nome, idade))"
   ]
  },
  {
   "cell_type": "markdown",
   "id": "259a4bbf",
   "metadata": {},
   "source": [
    "# 4 - Crie duas variáveis para armazenar valores numéricos e exiba o resultado da soma."
   ]
  },
  {
   "cell_type": "code",
   "execution_count": 8,
   "id": "2d4313e9",
   "metadata": {},
   "outputs": [
    {
     "name": "stdout",
     "output_type": "stream",
     "text": [
      "Resultado: 100\n"
     ]
    }
   ],
   "source": [
    "var1 = 60\n",
    "var2 = 40\n",
    "somaVar = var1 + var2\n",
    "\n",
    "print ('Resultado: {}' .format(somaVar))"
   ]
  },
  {
   "cell_type": "markdown",
   "id": "a4b642fa",
   "metadata": {},
   "source": [
    "# 5 -  Escreva um programa que peça o nome do usuário e exiba uma mensagem de boas-vindas."
   ]
  },
  {
   "cell_type": "code",
   "execution_count": 9,
   "id": "dfee06bd",
   "metadata": {},
   "outputs": [
    {
     "name": "stdout",
     "output_type": "stream",
     "text": [
      "Olá, poderia me informar seu nome? cu\\inho\n",
      "Muito prazer em vê-lo por aqui cu\\inho, seja muito bem vindo a casa\n"
     ]
    }
   ],
   "source": [
    "usuario = input ('Olá, poderia me informar seu nome? ')\n",
    "\n",
    "print ('Muito prazer em vê-lo por aqui {}, seja muito bem vindo a casa' .format (usuario))"
   ]
  },
  {
   "cell_type": "markdown",
   "id": "1aa984cf",
   "metadata": {},
   "source": [
    "#  6 - Você foi contratado para desenvolver um programa que auxilie um petshop a gerar mensagens personalizadas para seus clientes. O programa deve solicitar algumas informações do cliente e, em seguida, exibir uma mensagem customizada com base nos dados fornecidos.\n",
    "\n",
    "O programa deve conter as seguintes etapas:\n",
    "\n",
    "Solicitar ao usuário que digite seu nome, o nome do seu pet (animal de estimação) e a espécie do pet (por exemplo, cachorro, gato, pássaro, etc.).\n",
    "\n",
    "Em seguida, peça ao usuário que informe a idade do pet em anos.\n",
    "\n",
    "Solicite também ao usuário que informe se o pet já tomou todas as vacinas obrigatórias (responda com \"Sim\" ou \"Não\").\n",
    "\n",
    "Com base nas informações coletadas, o programa deve gerar uma mensagem personalizada para o cliente. A mensagem deve incluir o nome do cliente, o nome do pet, a espécie do pet, sua idade em anos e se já tomou todas as vacinas obrigatórias."
   ]
  },
  {
   "cell_type": "code",
   "execution_count": 17,
   "id": "72c15eff",
   "metadata": {},
   "outputs": [
    {
     "name": "stdout",
     "output_type": "stream",
     "text": [
      "Olá, para o atendimento do nosso pet shop você precisa responder um pequeno questionariozinho\n",
      "Nome: Thiago\n",
      "Nome do petizinho: pão\n",
      "Qual seria a raça do(a) pãoCalabresa\n",
      "Nosso bichano está com todas as vacinas em dia? (responda \"sim\" ou \"não\")sim\n",
      " \n",
      "Sejam bem-vindos (as) ao PetShow. Abaixo está os dados informados no questionario\n",
      "Nome: Thiago\n",
      "Nome do pet: pão\n",
      "Raça do pet: Calabresa\n",
      "está com as vacinas em dia?: sim\n",
      "\n"
     ]
    }
   ],
   "source": [
    "print ('Olá, para o atendimento do nosso pet shop você precisa responder um pequeno questionariozinho')\n",
    "\n",
    "cliente = input ('Nome: ')\n",
    "pet = input ('Nome do petizinho: ')\n",
    "raca = input ('Qual seria a raça do(a) {}' .format(pet))\n",
    "vacina = input ('Nosso bichano está com todas as vacinas em dia? (responda \"sim\" ou \"não\")')\n",
    "\n",
    "print (\"\"\" \n",
    "Sejam bem-vindos (as) ao PetShow. Abaixo está os dados informados no questionario\n",
    "Nome: {}\n",
    "Nome do pet: {}\n",
    "Raça do pet: {}\n",
    "está com as vacinas em dia?: {}\n",
    "\"\"\" .format (cliente, pet, raca, vacina))"
   ]
  },
  {
   "cell_type": "code",
   "execution_count": null,
   "id": "47eb76bc",
   "metadata": {},
   "outputs": [],
   "source": []
  }
 ],
 "metadata": {
  "kernelspec": {
   "display_name": "Python 3 (ipykernel)",
   "language": "python",
   "name": "python3"
  },
  "language_info": {
   "codemirror_mode": {
    "name": "ipython",
    "version": 3
   },
   "file_extension": ".py",
   "mimetype": "text/x-python",
   "name": "python",
   "nbconvert_exporter": "python",
   "pygments_lexer": "ipython3",
   "version": "3.11.3"
  }
 },
 "nbformat": 4,
 "nbformat_minor": 5
}
