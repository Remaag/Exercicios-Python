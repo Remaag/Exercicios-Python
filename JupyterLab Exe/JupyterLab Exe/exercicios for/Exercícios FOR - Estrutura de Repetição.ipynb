{
 "cells": [
  {
   "cell_type": "markdown",
   "id": "9dd4c2d2",
   "metadata": {},
   "source": [
    "# Lista de Exercícios \n",
    "\n",
    "## Estrutura de Repetições \n",
    "\n",
    "\n",
    "# \n",
    "\n",
    "#\n"
   ]
  },
  {
   "cell_type": "markdown",
   "id": "a11e7125",
   "metadata": {},
   "source": [
    "# Exercício 1:\n",
    "## Situação Problema: Um professor deseja imprimir na tela os números pares de 0 a 10 para ensinar os alunos sobre os conceitos de números pares e o uso da estrutura de repetição for."
   ]
  },
  {
   "cell_type": "code",
   "execution_count": 15,
   "id": "70b32ec8",
   "metadata": {},
   "outputs": [
    {
     "name": "stdout",
     "output_type": "stream",
     "text": [
      "0\n",
      "2\n",
      "4\n",
      "6\n",
      "8\n",
      "10\n"
     ]
    }
   ],
   "source": [
    "# sintax\n",
    "# range([start], [stop], [step]) \n",
    "\n",
    "for i in range (0, 11, 2) :\n",
    "    print (i)\n",
    "    \n",
    "    #completo"
   ]
  },
  {
   "cell_type": "markdown",
   "id": "774c24f7",
   "metadata": {},
   "source": [
    "# Exercício 2:\n",
    "## Situação Problema: Um vendedor de frutas quer mostrar ao cliente as frutas disponíveis em sua banca. Ele possui uma lista de nomes de frutas e deseja imprimir cada nome em uma linha separada para facilitar a visualização."
   ]
  },
  {
   "cell_type": "code",
   "execution_count": 19,
   "id": "2355128b",
   "metadata": {},
   "outputs": [
    {
     "name": "stdout",
     "output_type": "stream",
     "text": [
      "Tenho limão\n",
      "Tenho maracuja\n",
      "Tenho banana\n",
      "Tenho maçã\n"
     ]
    }
   ],
   "source": [
    "listas = ['limão', 'maracuja', 'banana', 'maçã']\n",
    "\n",
    "for lista in listas :\n",
    "    print ('Tenho {}'.format(lista))\n",
    "    \n",
    "    #completo"
   ]
  },
  {
   "cell_type": "markdown",
   "id": "4a8789d6",
   "metadata": {},
   "source": [
    "# Exercício 3:\n",
    "## Situação Problema: Uma criança está aprendendo a tabuada e precisa praticar a tabuada de um número específico. O programa pede à criança para digitar um número e, em seguida, imprime a tabuada desse número de 1 a 10 para ajudá-la a praticar."
   ]
  },
  {
   "cell_type": "code",
   "execution_count": 19,
   "id": "4fe9fcc5",
   "metadata": {},
   "outputs": [
    {
     "name": "stdout",
     "output_type": "stream",
     "text": [
      "Qual tabuada deseja ver?9\n",
      "0 x 9 = 0\n",
      "1 x 9 = 9\n",
      "2 x 9 = 18\n",
      "3 x 9 = 27\n",
      "4 x 9 = 36\n",
      "5 x 9 = 45\n",
      "6 x 9 = 54\n",
      "7 x 9 = 63\n",
      "8 x 9 = 72\n",
      "9 x 9 = 81\n",
      "10 x 9 = 90\n"
     ]
    }
   ],
   "source": [
    "# pedindo para o ususario digitar qual o multiplicador da tabuada desejada\n",
    "num = int (input ('Qual tabuada deseja ver? '))\n",
    "\n",
    "# fazendo com que o contador (i) comece no 0\n",
    "# com que o contador funcione 11 vezes (no caso de 0 a 10)\n",
    "# fazendo com que o contador (i) pule de 1 em 1, parando de funcionar ao chegar no 11\n",
    "for i in range (0, 11, 1):\n",
    "    mult = i * num\n",
    "    print (f'{i} x {num} = {mult}')\n",
    "    \n",
    "    #completo"
   ]
  },
  {
   "cell_type": "markdown",
   "id": "73292b54",
   "metadata": {},
   "source": [
    "# Exercício 4:\n",
    "## Situação Problema: Um cientista está analisando dados experimentais e deseja saber o valor e a posição de cada leitura registrada. O programa recebe uma lista de números, e o cientista precisa imprimir cada valor junto com sua respectiva posição na lista."
   ]
  },
  {
   "cell_type": "code",
   "execution_count": 24,
   "id": "efd1518c",
   "metadata": {},
   "outputs": [
    {
     "name": "stdout",
     "output_type": "stream",
     "text": [
      "Digite os valor separando cada um deles com virgulas. 12 12 11\n",
      "['12 12 11']\n"
     ]
    }
   ],
   "source": [
    "numeros = []\n",
    "\n",
    "numero = input ('Digite os valor separando cada um deles com virgulas. ')\n",
    "n = len(numero)\n",
    "\n",
    "\n",
    "\n",
    "print (numeros)"
   ]
  },
  {
   "cell_type": "markdown",
   "id": "dfa079f6",
   "metadata": {},
   "source": [
    "# Exercício 5:\n",
    "## Situação Problema: Um caixa de supermercado precisa calcular o total de uma compra. Ele registra o preço de cada produto em uma lista e, em seguida, usa um loop for para somar todos os preços e obter o valor total da compra."
   ]
  },
  {
   "cell_type": "code",
   "execution_count": 23,
   "id": "4022ade0",
   "metadata": {},
   "outputs": [
    {
     "name": "stdout",
     "output_type": "stream",
     "text": [
      "102.78999999999999\n"
     ]
    }
   ],
   "source": [
    "# lista de valores de cada item da compra\n",
    "carrinho = [10.00, 23.50, 50.30, 15.00, 3.99]\n",
    "# pegando a quantidade de itens que tem dentro da lista\n",
    "n = len (carrinho)\n",
    "# valor inicial da compra\n",
    "valor = 0.00\n",
    "\n",
    "# dizendo que o contador (i) começa em 0\n",
    "# dizendo que o for irá se repetir a quantidade de vezes igual a quantidade de produtos na lista de compra\n",
    "# e que cada repetição vale 1, assim quando i for igual a n o looping para\n",
    "for i in range (0, n, 1) :\n",
    "    # dizendo que o valor se somará com ele mesmo mais o valor do index do item presente na lista\n",
    "    valor = valor + carrinho[i]\n",
    "    \n",
    "# mostrando o valor total da compra\n",
    "print (valor)\n",
    "\n",
    "    #completo"
   ]
  },
  {
   "cell_type": "markdown",
   "id": "e133fb36",
   "metadata": {},
   "source": [
    "# Exercício 6:\n",
    "## Situação Problema: Um professor quer ensinar aos alunos como contar as vogais em uma frase. O programa pede ao aluno para digitar uma frase e, em seguida, conta quantas vogais existem nessa frase, mostrando o resultado na tela."
   ]
  },
  {
   "cell_type": "code",
   "execution_count": 7,
   "id": "e76888d1",
   "metadata": {},
   "outputs": [
    {
     "name": "stdout",
     "output_type": "stream",
     "text": [
      "Digite uma palavra para saber quantas vogais ela possui xablau\n",
      "Essa palavra possui 3 vogais\n"
     ]
    }
   ],
   "source": [
    "# lista com todas as vogais\n",
    "vogais = ['a', 'e', 'i', 'o', 'u']\n",
    "\n",
    "# pedindo para que o aluno digite uma palavra\n",
    "plvr = input ('Digite uma palavra para saber quantas vogais ela possui ')\n",
    "vogal = 0\n",
    "\n",
    "for i in range (0, len(plvr), 1) :\n",
    "    if plvr[i] in vogais :\n",
    "        vogal += 1\n",
    "print (f'Essa palavra possui {vogal} vogais')\n",
    "\n",
    "        # completo"
   ]
  },
  {
   "cell_type": "markdown",
   "id": "9f19b6dc",
   "metadata": {},
   "source": [
    "# Exercício 7:\n",
    "## Situação Problema: Um jogador está jogando um jogo de adivinhação e precisa descobrir o número mais alto dentre várias tentativas. O programa recebe uma lista de números inseridos pelo jogador e exibe o maior número após todas as tentativas."
   ]
  },
  {
   "cell_type": "code",
   "execution_count": 9,
   "id": "c325a255",
   "metadata": {},
   "outputs": [
    {
     "name": "stdout",
     "output_type": "stream",
     "text": [
      "Tente adivinhar o número mais alto presente na lista, você tem 5 tentivas5\n",
      "o numero 5 é menor do que o numero misterioso. Você tem 4 tentativas\n",
      "Tente adivinhar o número mais alto presente na lista, você tem 5 tentivas4\n",
      "o numero 4 é menor do que o numero misterioso. Você tem 3 tentativas\n",
      "Tente adivinhar o número mais alto presente na lista, você tem 5 tentivas3\n",
      "o numero 3 é menor do que o numero misterioso. Você tem 2 tentativas\n",
      "Tente adivinhar o número mais alto presente na lista, você tem 5 tentivas2\n",
      "o numero 2 é menor do que o numero misterioso. Você tem 1 tentativas\n",
      "Tente adivinhar o número mais alto presente na lista, você tem 5 tentivas3\n",
      "o numero 3 é menor do que o numero misterioso. Você tem 0 tentativas\n",
      "Puts que peninha, suas chances acabaram, o numero misterioso era o 10\n"
     ]
    }
   ],
   "source": [
    "# lista de numeros\n",
    "nums = [1, 2, 3, 4, 5, 6, 7, 8, 9, 10]\n",
    "\n",
    "maior = max(nums)\n",
    "\n",
    "for i in range (5):\n",
    "    num = int(input('Tente adivinhar o número mais alto presente na lista. Você tem 5 tentivas. '))\n",
    "    verif = num - maior\n",
    "    if verif < 0 :\n",
    "        print (f'o numero {num} é menor do que o numero misterioso. Você tem {4 - i} tentativas.')\n",
    "        \n",
    "    elif verif > 0 :\n",
    "        print (f'O numero {num} é maior do que o numero misterioso')\n",
    "        \n",
    "    else :\n",
    "        print (f'Parabens! {num} era o numero misterioso')\n",
    "        break\n",
    "\n",
    "if num != maior :\n",
    "    print (f'Puts que peninha, suas chances acabaram, o numero misterioso era o {maior}')\n",
    "\n",
    "    \n",
    "    #completo"
   ]
  },
  {
   "cell_type": "markdown",
   "id": "d8bdadbe",
   "metadata": {},
   "source": [
    "# Exercício 9:\n",
    "## Situação Problema: Um professor deseja ensinar o alfabeto para seus alunos. O programa pede ao aluno para digitar uma palavra e, em seguida, exibe cada letra da palavra em uma linha separada para ajudar os alunos a praticarem o reconhecimento das letras."
   ]
  },
  {
   "cell_type": "code",
   "execution_count": 3,
   "id": "588919c6",
   "metadata": {},
   "outputs": [
    {
     "name": "stdout",
     "output_type": "stream",
     "text": [
      "Digite uma palavra xablau\n",
      "x\n",
      "\n",
      "a\n",
      "\n",
      "b\n",
      "\n",
      "l\n",
      "\n",
      "a\n",
      "\n",
      "u\n",
      "\n"
     ]
    }
   ],
   "source": [
    "palavra = input ('Digite uma palavra ')\n",
    "\n",
    "for i in range (0, len(palavra), 1) :\n",
    "    print(f'{palavra[i]}\\n')\n",
    "\n",
    "    # completo"
   ]
  }
 ],
 "metadata": {
  "kernelspec": {
   "display_name": "Python 3 (ipykernel)",
   "language": "python",
   "name": "python3"
  },
  "language_info": {
   "codemirror_mode": {
    "name": "ipython",
    "version": 3
   },
   "file_extension": ".py",
   "mimetype": "text/x-python",
   "name": "python",
   "nbconvert_exporter": "python",
   "pygments_lexer": "ipython3",
   "version": "3.11.3"
  }
 },
 "nbformat": 4,
 "nbformat_minor": 5
}
