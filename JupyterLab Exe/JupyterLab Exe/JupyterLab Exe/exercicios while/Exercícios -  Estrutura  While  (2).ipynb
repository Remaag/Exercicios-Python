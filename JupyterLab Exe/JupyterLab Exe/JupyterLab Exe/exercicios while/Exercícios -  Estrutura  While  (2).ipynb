{
 "cells": [
  {
   "cell_type": "markdown",
   "id": "39f9a7fb",
   "metadata": {
    "id": "39f9a7fb"
   },
   "source": [
    "# Desafios de Treinamento em Python com o Loop While\n",
    "\n",
    "\n",
    "\n",
    "#### \"Desafios de Treinamento em Python com o Loop While\"! Você está prestes a embarcar em uma jornada emocionante para aprimorar suas habilidades de programação usando a linguagem Python. Os exercícios que apresentamos aqui foram projetados para proporcionar a você uma compreensão sólida e prática do loop while, uma ferramenta poderosa que permite que seu código execute repetidamente enquanto uma condição for verdadeira.\n",
    "\n",
    "#### À medida que você trabalha nesses exercícios, você estará mergulhando em situações do mundo real, resolvendo problemas e construindo soluções criativas usando o loop while. Essa é uma oportunidade incrível para fortalecer sua lógica de programação e sua capacidade de transformar conceitos abstratos em código funcional.\n",
    "\n",
    "##### Cada exercício apresenta uma situação desafiadora que requer o uso eficaz do loop while. Ao enfrentar esses desafios, você não apenas dominará os aspectos técnicos da linguagem Python, mas também desenvolverá uma abordagem analítica para resolver problemas complexos de maneira iterativa e estruturada.\n",
    "\n",
    "#### Lembre-se de que a prática é fundamental para aprimorar suas habilidades. Reserve um tempo para entender completamente cada exercício, experimentar diferentes abordagens e testar suas soluções. Se encontrar dificuldades, não hesite em pesquisar documentações, tutoriais e recursos online para obter insights adicionais."
   ]
  },
  {
   "cell_type": "markdown",
   "id": "cb724eb6",
   "metadata": {
    "id": "cb724eb6"
   },
   "source": [
    "## Exercício 1: Contagem regressiva\n",
    "Situação Problema: Você está lançando um foguete espacial e deseja fazer uma contagem regressiva a partir de 10 até o lançamento. Escreva um programa que imprima os números de 30 a 1, indicando a contagem regressiva.\n",
    "\n"
   ]
  },
  {
   "cell_type": "code",
   "execution_count": 4,
   "id": "dca60fff",
   "metadata": {
    "id": "dca60fff"
   },
   "outputs": [
    {
     "name": "stdout",
     "output_type": "stream",
     "text": [
      "30\n",
      "29\n",
      "28\n",
      "27\n",
      "26\n",
      "25\n",
      "24\n",
      "23\n",
      "22\n",
      "21\n",
      "20\n",
      "19\n",
      "18\n",
      "17\n",
      "16\n",
      "15\n",
      "14\n",
      "13\n",
      "12\n",
      "11\n",
      "10\n",
      "9\n",
      "8\n",
      "7\n",
      "6\n",
      "5\n",
      "4\n",
      "3\n",
      "2\n",
      "1\n",
      "0\n"
     ]
    }
   ],
   "source": [
    "n = 30\n",
    "\n",
    "while n >= 0 :\n",
    "    print (n)\n",
    "    n = n - 1\n",
    "    \n",
    "        # completo"
   ]
  },
  {
   "cell_type": "markdown",
   "id": "59c8b30f",
   "metadata": {
    "id": "59c8b30f"
   },
   "source": [
    "### Exercício 2: Soma até certo limite\n",
    "Situação Problema: Você está jogando um jogo em que precisa somar números inteiros sequencialmente até que a soma ultrapasse 20. Escreva um programa que calcule e exiba a soma desses números.\n",
    "\n"
   ]
  },
  {
   "cell_type": "code",
   "execution_count": 1,
   "id": "718fd861",
   "metadata": {
    "id": "718fd861"
   },
   "outputs": [
    {
     "name": "stdout",
     "output_type": "stream",
     "text": [
      "A soma dos muneros inteiros é: 21\n"
     ]
    }
   ],
   "source": [
    "somaAc = 0\n",
    "n = 1\n",
    "\n",
    "while somaAc <= 20:\n",
    "    somaAc += n\n",
    "    n += 1\n",
    "    \n",
    "print (f'A soma dos muneros inteiros é: {somaAc}')\n",
    "\n",
    "        # completo"
   ]
  },
  {
   "cell_type": "markdown",
   "id": "d32b617c",
   "metadata": {
    "id": "d32b617c"
   },
   "source": [
    "### Exercício 3: Adivinhe o número\n",
    "Situação Problema: Você está brincando de adivinhar o número que um computador escolheu entre 1 e 100. Cada vez que você adivinha, o computador lhe dirá se o número é maior ou menor. Escreva um programa que permita que o jogador adivinhe o número e conte quantas tentativas foram necessárias.\n",
    "\n"
   ]
  },
  {
   "cell_type": "code",
   "execution_count": 27,
   "id": "3cc36712",
   "metadata": {
    "id": "3cc36712"
   },
   "outputs": [
    {
     "name": "stdout",
     "output_type": "stream",
     "text": [
      "Tente um numero: 1\n",
      "1 é menor que o numero.\n",
      "Tente um numero: 10\n",
      "10 é menor que o numero.\n",
      "Tente um numero: 20\n",
      "20 é menor que o numero.\n",
      "Tente um numero: 50\n",
      "50 é menor que o numero.\n",
      "Tente um numero: 70\n",
      "70 é menor que o numero.\n",
      "Tente um numero: 90\n",
      "90 é maior que o numero.\n",
      "Tente um numero: 80\n",
      "80 é maior que o numero.\n",
      "Tente um numero: 71\n",
      "Parabens, o numero era 71, acertou em 7 tentativas.\n"
     ]
    }
   ],
   "source": [
    "import random\n",
    "x = random.randint (1, 100)\n",
    "i = 0\n",
    "\n",
    "chute = round(float(input('Tente um numero: ')))\n",
    "while chute != x :\n",
    "    if chute > x :\n",
    "        print (f'{chute} é maior que o numero.')\n",
    "    else :\n",
    "        print (f'{chute} é menor que o numero.')\n",
    "        \n",
    "    chute = round(float(input('Tente um numero: ')))\n",
    "    i += 1\n",
    "print (f'Parabens, o numero era {chute}, acertou em {i} tentativas.')\n",
    "\n",
    "        # completo"
   ]
  },
  {
   "cell_type": "markdown",
   "id": "0e3b71f0",
   "metadata": {
    "id": "0e3b71f0"
   },
   "source": [
    "### Exercício 4: Tabuada\n",
    "Situação Problema: Você é um estudante tentando aprender a tabuada. Escreva um programa que peça um número ao usuário e, em seguida, exiba a tabuada desse número, de 1 a 10.\n",
    "\n"
   ]
  },
  {
   "cell_type": "code",
   "execution_count": 20,
   "id": "a7bc5188",
   "metadata": {
    "id": "a7bc5188"
   },
   "outputs": [
    {
     "name": "stdout",
     "output_type": "stream",
     "text": [
      "Digite um numero para saber a tabuada. 4\n",
      "1 x 4 = 4\n",
      "2 x 4 = 8\n",
      "3 x 4 = 12\n",
      "4 x 4 = 16\n",
      "5 x 4 = 20\n",
      "6 x 4 = 24\n",
      "7 x 4 = 28\n",
      "8 x 4 = 32\n",
      "9 x 4 = 36\n",
      "10 x 4 = 40\n"
     ]
    }
   ],
   "source": [
    "n = round (float (input ('Digite um numero para saber a tabuada. ')))\n",
    "\n",
    "i = 0\n",
    "\n",
    "\n",
    "while 10 > i :\n",
    "    i += 1\n",
    "    mult = (i * n)\n",
    "    print (f'{i} x {n} = {round(mult)}')\n",
    "    \n",
    "            # completo"
   ]
  },
  {
   "cell_type": "markdown",
   "id": "e2a66077",
   "metadata": {
    "id": "e2a66077"
   },
   "source": [
    "### Exercício 5: Soma de números pares\n",
    "Situação Problema: Você está tentando calcular a soma de todos os números pares de 2 a 100. Escreva um programa que realize essa tarefa.\n",
    "\n"
   ]
  },
  {
   "cell_type": "code",
   "execution_count": 2,
   "id": "31d1cff6",
   "metadata": {
    "id": "31d1cff6",
    "scrolled": true
   },
   "outputs": [
    {
     "name": "stdout",
     "output_type": "stream",
     "text": [
      "2550\n"
     ]
    }
   ],
   "source": [
    "somaP = 0\n",
    "n = 2\n",
    "\n",
    "while n <= 100 :\n",
    "    somaP += n\n",
    "    n += 2\n",
    "    \n",
    "print (somaP)\n",
    "\n",
    "        # completo"
   ]
  },
  {
   "cell_type": "markdown",
   "id": "037a9f93",
   "metadata": {
    "id": "037a9f93"
   },
   "source": [
    "### Exercício 6: Média de números\n",
    "Situação Problema: Você é um professor que deseja calcular a média das notas de seus alunos. Escreva um programa que permita que o professor insira as notas dos alunos e calcule a média.\n",
    "\n"
   ]
  },
  {
   "cell_type": "code",
   "execution_count": 58,
   "id": "1620e4a6",
   "metadata": {
    "id": "1620e4a6"
   },
   "outputs": [
    {
     "name": "stdout",
     "output_type": "stream",
     "text": [
      "Digite o nome da materia. Para finalizar digite \"/sair\" math\n",
      "Digite a nota 4\n",
      "Digite o nome da materia. Para finalizar digite \"/sair\" fis\n",
      "Digite a nota 7\n",
      "Digite o nome da materia. Para finalizar digite \"/sair\" ed fis\n",
      "Digite a nota 10\n",
      "Digite o nome da materia. Para finalizar digite \"/sair\" /sair\n",
      "A media das materias:\n",
      "math, fis, ed fis\n",
      "É: é: 7.0\n"
     ]
    }
   ],
   "source": [
    "notas = []\n",
    "materias = []\n",
    "materia = ''\n",
    "while materia != '/sair' :  \n",
    "    materia = input ('Digite o nome da materia. Para finalizar digite \"/sair\" ')\n",
    "    if materia != '/sair' :\n",
    "        nota = round (float (input ('Digite a nota ')))\n",
    "        materias.append (materia)\n",
    "        notas.append (nota)\n",
    "        \n",
    "if len(materias) > 0 :\n",
    "    print (f'A media das materias:')\n",
    "    print (*materias, sep = ', ')\n",
    "    print (f'É: {sum(notas) / len(notas)}')\n",
    "else :\n",
    "    print ('Nenhuma materia foi incluida.')\n",
    "    \n",
    "        # completo"
   ]
  },
  {
   "cell_type": "markdown",
   "id": "a9357fa1",
   "metadata": {
    "id": "a9357fa1"
   },
   "source": [
    "### Exercício 7: Fatorial\n",
    "Situação Problema: Você está resolvendo problemas matemáticos e precisa calcular o fatorial de um número inteiro. Escreva um programa que calcule e exiba o fatorial de um número dado.\n",
    "\n"
   ]
  },
  {
   "cell_type": "code",
   "execution_count": 3,
   "id": "d2e14a06",
   "metadata": {
    "id": "d2e14a06"
   },
   "outputs": [
    {
     "name": "stdout",
     "output_type": "stream",
     "text": [
      "Digite um numero inteiro10\n",
      "3628800\n"
     ]
    }
   ],
   "source": [
    "n = int (input ('Digite um numero inteiro: '))\n",
    "resultado = 1\n",
    "i = 1\n",
    "\n",
    "while i <= n :\n",
    "    resultado *= i\n",
    "    i += 1\n",
    "    \n",
    "print (resultado)\n",
    "\n",
    "        # completo"
   ]
  },
  {
   "cell_type": "markdown",
   "id": "a0150711",
   "metadata": {
    "id": "a0150711"
   },
   "source": [
    "### Exercício 8: Números primos\n",
    "Situação Problema: Você está explorando números primos e deseja verificar se um determinado número é primo. Escreva um programa que permita que o usuário insira um número e determine se ele é primo ou não.\n",
    "\n"
   ]
  },
  {
   "cell_type": "code",
   "execution_count": 5,
   "id": "0d14fbb8",
   "metadata": {
    "id": "0d14fbb8"
   },
   "outputs": [
    {
     "name": "stdout",
     "output_type": "stream",
     "text": [
      "Digite um número inteiro: 2\n",
      "primo\n"
     ]
    }
   ],
   "source": [
    "n = int (input ('Digite um número inteiro: '))\n",
    "cont = 0\n",
    "i = 0\n",
    "\n",
    "while i <= n or cont < 2:\n",
    "    i = i + 1\n",
    "    x = n % i\n",
    "    \n",
    "    if x == 0:\n",
    "        cont = cont + 1\n",
    "\n",
    "if cont <= 2:\n",
    "    print ('primo')\n",
    "else:\n",
    "    print ('não primo')\n",
    "    \n",
    "        # completo"
   ]
  },
  {
   "cell_type": "markdown",
   "id": "f44c34b5",
   "metadata": {
    "id": "f44c34b5"
   },
   "source": [
    "### Exercício 9: Soma até ultrapassar valor\n",
    "Situação Problema: Você está tentando descobrir quantos números inteiros precisam ser somados sequencialmente até que a soma total seja maior que 100. Escreva um programa que realize esse cálculo.\n"
   ]
  },
  {
   "cell_type": "code",
   "execution_count": 25,
   "id": "bf9de2aa",
   "metadata": {
    "id": "bf9de2aa"
   },
   "outputs": [
    {
     "name": "stdout",
     "output_type": "stream",
     "text": [
      "1\n",
      "3\n",
      "6\n",
      "10\n",
      "15\n",
      "21\n",
      "28\n",
      "36\n",
      "45\n",
      "55\n",
      "66\n",
      "78\n",
      "91\n",
      "105\n",
      "\n",
      "Numero alcançado = 105.\n",
      "Quantidade de numeros somados = 14.\n",
      "\n"
     ]
    }
   ],
   "source": [
    "i = 0\n",
    "n = 1\n",
    "x = 0\n",
    "\n",
    "while x <= 100 :\n",
    "    x = x + n\n",
    "    n += 1\n",
    "    i += 1\n",
    "    print (x)\n",
    "print (f'''\n",
    "Numero alcançado = {x}.\n",
    "Quantidade de numeros somados = {i}.\n",
    "''')\n",
    "\n",
    "        # completo"
   ]
  },
  {
   "cell_type": "markdown",
   "id": "9d8dca7a",
   "metadata": {
    "id": "9d8dca7a"
   },
   "source": [
    "\n",
    "### Exercício 10: Validando entrada numérica\n",
    "Situação Problema: Você está criando um programa que requer entrada numérica do usuário. No entanto, você deseja garantir que a entrada seja válida. Escreva um programa que solicite ao usuário um número e continue pedindo até que um número válido seja inserido.\n",
    "\n"
   ]
  },
  {
   "cell_type": "code",
   "execution_count": 28,
   "id": "1ef94e86",
   "metadata": {
    "id": "1ef94e86"
   },
   "outputs": [
    {
     "name": "stdout",
     "output_type": "stream",
     "text": [
      "Senha 43\n",
      "Senha 645\n",
      "Senha 1234\n",
      "Acesso consedido\n"
     ]
    }
   ],
   "source": [
    "senha = 1234\n",
    "\n",
    "while n != senha :\n",
    "    n = round(float(input ('Senha ')))\n",
    "print ('Acesso consedido')\n",
    "\n",
    "        # completo"
   ]
  },
  {
   "cell_type": "markdown",
   "id": "c89c29ca",
   "metadata": {
    "id": "c89c29ca"
   },
   "source": [
    "### Exercício 11: Jogo de adivinhação com dicas\n",
    "Situação Problema: Você está jogando um jogo de adivinhação onde precisa adivinhar um número entre 1 e 100. O computador fornecerá dicas para orientar suas suposições. Escreva um programa que permita que você jogue esse jogo.\n",
    "\n"
   ]
  },
  {
   "cell_type": "code",
   "execution_count": 29,
   "id": "f23e238a",
   "metadata": {
    "id": "f23e238a"
   },
   "outputs": [
    {
     "name": "stdout",
     "output_type": "stream",
     "text": [
      "Tente um numero: 30\n",
      "30 é maior que o numero.\n",
      "Tente um numero: 20\n",
      "20 é menor que o numero.\n",
      "Tente um numero: 25\n",
      "25 é menor que o numero.\n",
      "Tente um numero: 28\n",
      "Parabens, o numero era 28.\n"
     ]
    }
   ],
   "source": [
    "import random\n",
    "x = random.randint (1, 100)\n",
    "\n",
    "chute = round(float(input('Tente um numero: ')))\n",
    "while chute != x :\n",
    "    if chute > x :\n",
    "        print (f'{chute} é maior que o numero.')\n",
    "    else :\n",
    "        print (f'{chute} é menor que o numero.')\n",
    "        \n",
    "    chute = round(float(input('Tente um numero: ')))\n",
    "    \n",
    "print (f'Parabens, o numero era {chute}.')\n",
    "\n",
    "        # completo"
   ]
  },
  {
   "cell_type": "markdown",
   "id": "0a89370c",
   "metadata": {
    "id": "0a89370c"
   },
   "source": [
    "### Exercício 12: Contagem de vogais\n",
    "Situação Problema: Você está analisando palavras e deseja saber quantas vogais cada palavra contém. Escreva um programa que conte e exiba o número de vogais em uma palavra inserida pelo usuário.\n",
    "\n"
   ]
  },
  {
   "cell_type": "code",
   "execution_count": 35,
   "id": "51b3893c",
   "metadata": {
    "id": "51b3893c"
   },
   "outputs": [
    {
     "name": "stdout",
     "output_type": "stream",
     "text": [
      "Digite uma palavra bambu\n",
      "A palavra bambu contém 2 vogais.\n"
     ]
    }
   ],
   "source": [
    "vogais = ['a', 'e', 'i', 'o', 'u']\n",
    "x = 0\n",
    "i = 0\n",
    "palavra = input ('Digite uma palavra ')\n",
    "while x < len(palavra) :\n",
    "    if (palavra[x]) in vogais : \n",
    "        i += 1\n",
    "    x += 1\n",
    "print (f'A palavra {palavra} contém {i} vogais.')\n",
    "\n",
    "        # completo"
   ]
  },
  {
   "cell_type": "markdown",
   "id": "4999df99",
   "metadata": {
    "id": "4999df99"
   },
   "source": [
    "### Exercício 13: Média de notas com validação\n",
    "Situação Problema: Você é um professor que deseja calcular a média das notas de seus alunos. No entanto, você também deseja validar as notas para garantir que estejam dentro de um intervalo adequado. Escreva um programa que permita que o professor insira as notas dos alunos, valide-as e calcule a média."
   ]
  },
  {
   "cell_type": "code",
   "execution_count": 61,
   "id": "7e356ced",
   "metadata": {
    "id": "7e356ced"
   },
   "outputs": [
    {
     "name": "stdout",
     "output_type": "stream",
     "text": [
      "Digite o nome da materia. Para finalizar digite \"/sair\" math\n",
      "Digite a nota 8\n",
      "Digite o nome da materia. Para finalizar digite \"/sair\" fis\n",
      "Digite a nota 4\n",
      "Digite o nome da materia. Para finalizar digite \"/sair\" bambu\n",
      "Digite a nota 3\n",
      "Digite o nome da materia. Para finalizar digite \"/sair\" /sair\n",
      "A media das materias:\n",
      "math, fis, bambu\n",
      "É: 5.0\n",
      "Alundo de recuperação.\n"
     ]
    }
   ],
   "source": [
    "notas = []\n",
    "materias = []\n",
    "materia = ''\n",
    "while materia != '/sair' :  \n",
    "    materia = input ('Digite o nome da materia. Para finalizar digite \"/sair\" ')\n",
    "    if materia != '/sair' :\n",
    "        nota = round (float (input ('Digite a nota ')))\n",
    "        materias.append (materia)\n",
    "        notas.append (nota)\n",
    "        \n",
    "if len(materias) > 0 :\n",
    "    media = sum(notas) / len(notas)\n",
    "    print (f'A media das materias:')\n",
    "    print (*materias, sep = ', ')\n",
    "    print (f'É: {media}')\n",
    "else :\n",
    "    print ('Nenhuma materia foi incluida.')\n",
    "    \n",
    "if media >= 7 :\n",
    "    print ('Aluno aprovado.')\n",
    "    \n",
    "elif media >= 5 :\n",
    "    print ('Alundo de recuperação.')\n",
    "    \n",
    "else :\n",
    "    print ('Aluno reprovado.')\n",
    "    \n",
    "        # completo"
   ]
  }
 ],
 "metadata": {
  "colab": {
   "provenance": []
  },
  "kernelspec": {
   "display_name": "Python 3 (ipykernel)",
   "language": "python",
   "name": "python3"
  },
  "language_info": {
   "codemirror_mode": {
    "name": "ipython",
    "version": 3
   },
   "file_extension": ".py",
   "mimetype": "text/x-python",
   "name": "python",
   "nbconvert_exporter": "python",
   "pygments_lexer": "ipython3",
   "version": "3.11.3"
  }
 },
 "nbformat": 4,
 "nbformat_minor": 5
}
