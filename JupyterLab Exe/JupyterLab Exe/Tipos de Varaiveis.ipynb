{
 "cells": [
  {
   "cell_type": "code",
   "execution_count": 13,
   "id": "428228b6",
   "metadata": {},
   "outputs": [
    {
     "data": {
      "text/plain": [
       "int"
      ]
     },
     "execution_count": 13,
     "metadata": {},
     "output_type": "execute_result"
    }
   ],
   "source": [
    "faturamento = 1000\n",
    "type (faturamento)"
   ]
  },
  {
   "cell_type": "code",
   "execution_count": 14,
   "id": "39ba4274",
   "metadata": {},
   "outputs": [
    {
     "data": {
      "text/plain": [
       "float"
      ]
     },
     "execution_count": 14,
     "metadata": {},
     "output_type": "execute_result"
    }
   ],
   "source": [
    "faturamento = 1000.00\n",
    "type (faturamento)"
   ]
  },
  {
   "cell_type": "code",
   "execution_count": 15,
   "id": "32749eb6",
   "metadata": {},
   "outputs": [
    {
     "data": {
      "text/plain": [
       "str"
      ]
     },
     "execution_count": 15,
     "metadata": {},
     "output_type": "execute_result"
    }
   ],
   "source": [
    "faturamento = '1000'\n",
    "\n",
    "type (faturamento)"
   ]
  },
  {
   "cell_type": "code",
   "execution_count": 16,
   "id": "076452de",
   "metadata": {},
   "outputs": [
    {
     "data": {
      "text/plain": [
       "bool"
      ]
     },
     "execution_count": 16,
     "metadata": {},
     "output_type": "execute_result"
    }
   ],
   "source": [
    "faturamento = True\n",
    "\n",
    "type (faturamento)"
   ]
  },
  {
   "cell_type": "markdown",
   "id": "c58e0bdd",
   "metadata": {},
   "source": [
    "A função str() altera somente a variavel na linha em que é posta, sem alterar o valor em si. Com o intuito de concatenar tipos diferentes de valores"
   ]
  },
  {
   "cell_type": "code",
   "execution_count": 17,
   "id": "e48f5a65",
   "metadata": {},
   "outputs": [
    {
     "name": "stdout",
     "output_type": "stream",
     "text": [
      "O faturamento da loja foi de 1000\n"
     ]
    }
   ],
   "source": [
    "faturamento = 1000\n",
    "\n",
    "print ('O faturamento da loja foi de ' + str (faturamento))"
   ]
  },
  {
   "cell_type": "code",
   "execution_count": 18,
   "id": "660882e1",
   "metadata": {},
   "outputs": [
    {
     "data": {
      "text/plain": [
       "int"
      ]
     },
     "execution_count": 18,
     "metadata": {},
     "output_type": "execute_result"
    }
   ],
   "source": [
    "type (faturamento)"
   ]
  },
  {
   "cell_type": "markdown",
   "id": "a3ac6e6e",
   "metadata": {},
   "source": [
    "Usando o metodo .format é possivel fazer a mesma função de concatenar dois valores diferentes, sem a nessecidade de informar para qual tipo de valor precisa se usado, o pyton ao ler as {} chaves vai procurar qual variavel deve ser posta no local, procurando dentro do .format da linha.\n",
    "\n",
    "Podendo substituir as {} por qualquer varaivel, pegando elas em sequencia no .format."
   ]
  },
  {
   "cell_type": "code",
   "execution_count": 22,
   "id": "e5ac12ee",
   "metadata": {},
   "outputs": [
    {
     "name": "stdout",
     "output_type": "stream",
     "text": [
      "O faturamento da loja foi de 1000 o custo foi de 500 e o lucro de 500\n"
     ]
    }
   ],
   "source": [
    "faturamento = 1000\n",
    "custo = 500\n",
    "lucro = 500\n",
    "\n",
    "print ('O faturamento da loja foi de {} o custo foi de {} e o lucro de {}' .format(faturamento, custo, lucro))"
   ]
  },
  {
   "cell_type": "code",
   "execution_count": null,
   "id": "349a26e7",
   "metadata": {},
   "outputs": [],
   "source": []
  }
 ],
 "metadata": {
  "kernelspec": {
   "display_name": "Python 3 (ipykernel)",
   "language": "python",
   "name": "python3"
  },
  "language_info": {
   "codemirror_mode": {
    "name": "ipython",
    "version": 3
   },
   "file_extension": ".py",
   "mimetype": "text/x-python",
   "name": "python",
   "nbconvert_exporter": "python",
   "pygments_lexer": "ipython3",
   "version": "3.11.3"
  }
 },
 "nbformat": 4,
 "nbformat_minor": 5
}
