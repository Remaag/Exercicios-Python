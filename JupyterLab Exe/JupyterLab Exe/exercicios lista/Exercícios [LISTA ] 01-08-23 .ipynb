{
 "cells": [
  {
   "cell_type": "markdown",
   "id": "c68d6f8e",
   "metadata": {},
   "source": [
    "# Exercícios - Testando Conhecimentos Aprendidos em Aula\n",
    "\n",
    "### Neste conjunto de exercícios, você será desafiado a aplicar os conceitos aprendidos sobre listas em Python. Os exercícios abrangem operações como criação de listas, remoção de elementos, adição de itens, índices, uso de list comprehensions e muito mais. Siga as instruções de cada exercício e tente resolver utilizando apenas o código dentro do script."
   ]
  },
  {
   "cell_type": "markdown",
   "id": "69d0f7dc",
   "metadata": {},
   "source": [
    "##"
   ]
  },
  {
   "cell_type": "markdown",
   "id": "ec501626",
   "metadata": {},
   "source": [
    "### 1 - Crie uma lista contendo os nomes de 5 países. Peça ao usuário para inserir o nome de mais um país. Em seguida, verifique se o país fornecido pelo usuário está na lista e exiba uma mensagem informando se ele está ou não na lista."
   ]
  },
  {
   "cell_type": "code",
   "execution_count": 21,
   "id": "db57457f",
   "metadata": {},
   "outputs": [
    {
     "name": "stdout",
     "output_type": "stream",
     "text": [
      "Escreva a seguir o nome de um país: africa\n",
      "Nova lista de paises: \n",
      " ['Brasil', 'Alemanha', 'Peru', 'Canada', 'Argentina', 'Africa']\n"
     ]
    }
   ],
   "source": [
    "# lista de paises já existente\n",
    "paises = ['Brasil', 'Alemanha', 'Peru', 'Canada', 'Argentina']\n",
    "\n",
    "# ususario adicionando um pais na lista\n",
    "pais = input ('Escreva a seguir o nome de um país: ')\n",
    "\n",
    "# deixando a primeira letra do país em maiusculo\n",
    "pais = pais.capitalize()\n",
    "\n",
    "if pais in paises :\n",
    "    print ('Esse país já possui na lista, tente um outro.')\n",
    "\n",
    "else :\n",
    "    paises.append(pais)\n",
    "    print (f'Nova lista de paises: \\n {paises}')\n",
    "    \n",
    "    # completo"
   ]
  },
  {
   "cell_type": "markdown",
   "id": "979aeae5",
   "metadata": {},
   "source": [
    "### 2 - Crie uma lista contendo os preços de 5 produtos. Em seguida, calcule e exiba o preço médio desses produtos."
   ]
  },
  {
   "cell_type": "code",
   "execution_count": 22,
   "id": "2748950b",
   "metadata": {},
   "outputs": [
    {
     "name": "stdout",
     "output_type": "stream",
     "text": [
      "468.6\n"
     ]
    }
   ],
   "source": [
    "preco = [543, 425, 864, 124, 387]\n",
    "\n",
    "soma = sum(preco)\n",
    "divisor = len(preco)\n",
    "\n",
    "media = soma / divisor\n",
    "\n",
    "print (media)\n",
    "\n",
    "        # completo"
   ]
  },
  {
   "cell_type": "markdown",
   "id": "504c48df",
   "metadata": {},
   "source": [
    "  ### 3 - Crie uma lista com 5 cores diferentes. Peça ao usuário para inserir o nome de uma cor. Se a cor estiver na lista, remova-a e exiba a lista atualizada. Caso contrário, exiba uma mensagem informando que a cor não foi encontrada."
   ]
  },
  {
   "cell_type": "code",
   "execution_count": 11,
   "id": "f2681580",
   "metadata": {},
   "outputs": [
    {
     "name": "stdout",
     "output_type": "stream",
     "text": [
      "Digite uma cor presente no sistema: azul\n",
      "Lista de cores atualizada: ['Laranja', 'Amarelo', 'Vermelho', 'Verde', 'Azul']\n"
     ]
    }
   ],
   "source": [
    "cores = ['Laranja', 'Amarelo', 'Vermelho', 'Azul', 'Verde']\n",
    "\n",
    "cor = input ('Digite uma cor presente no sistema: ')\n",
    "cor = cor.capitalize()\n",
    "\n",
    "if cor in cores:\n",
    "    cores.remove(cor)\n",
    "    cores.append(cor)\n",
    "    print(f'Lista de cores atualizada: {cores}')\n",
    "\n",
    "else :\n",
    "    print ('Cor não encontrada, tente outra.')\n",
    "    \n",
    "        # completo"
   ]
  },
  {
   "cell_type": "markdown",
   "id": "536d487d",
   "metadata": {},
   "source": [
    "### 4 - Escreva um programa que leia duas listas de números do usuário e verifique se elas têm o mesmo comprimento e se possuem elementos iguais nas mesmas posições. Exiba uma mensagem informando se as listas são iguais ou diferentes."
   ]
  },
  {
   "cell_type": "code",
   "execution_count": 24,
   "id": "612d02de",
   "metadata": {},
   "outputs": [
    {
     "name": "stdout",
     "output_type": "stream",
     "text": [
      "As listas são diferentes\n"
     ]
    }
   ],
   "source": [
    "list1 = [1, 2, 3]\n",
    "list2 = [1, 2, 3]\n",
    "\n",
    "quant1 = len(list1)\n",
    "quant2 = len(list2)\n",
    "\n",
    "if quant1 == quant2 :\n",
    "     \n",
    "        # completo"
   ]
  },
  {
   "cell_type": "markdown",
   "id": "462e7a14",
   "metadata": {},
   "source": [
    "### 5 - Crie uma lista contendo 10 números. Em seguida, solicite ao usuário que insira um número. Verifique se o número fornecido pelo usuário está na lista e, se estiver, exiba em quantas posições ele aparece."
   ]
  },
  {
   "cell_type": "code",
   "execution_count": 4,
   "id": "4faa687c",
   "metadata": {},
   "outputs": [
    {
     "name": "stdout",
     "output_type": "stream",
     "text": [
      "Digite um numero: 11\n",
      "O número 11 não aparece na lista.\n"
     ]
    }
   ],
   "source": [
    "lista = [1, 2, 3, 4, 5, 6, 7, 8, 9, 10]\n",
    "\n",
    "numero = input ('Digite um numero: ')\n",
    "numero = int(numero)\n",
    "\n",
    "if numero in lista :\n",
    "    posicao = lista.index(numero)\n",
    "    print (f'O número {numero} aparece na {posicao + 1}º posição.')\n",
    "\n",
    "else :\n",
    "    print (f'O número {numero} não aparece na lista.')\n",
    "    \n",
    "            # completo"
   ]
  },
  {
   "cell_type": "markdown",
   "id": "dcf80a5a",
   "metadata": {},
   "source": [
    "### 6 - Escreva uma função que recebe uma palavra e verifica se é um palíndromo, ou seja, se a palavra é igual quando lida de trás para frente."
   ]
  },
  {
   "cell_type": "code",
   "execution_count": 4,
   "id": "8855c87e",
   "metadata": {},
   "outputs": [
    {
     "name": "stdout",
     "output_type": "stream",
     "text": [
      "Digite uma palavra para verificar se é um palindromo. aveia\n",
      "aveia é palíndromo? False\n"
     ]
    }
   ],
   "source": [
    "palavra = input('Digite uma palavra para verificar se é um palindromo. ')\n",
    "\n",
    "# inverte a palavra para conferir se ela é igual mesmo ao contrario\n",
    "palindromo = palavra == palavra[::-1]\n",
    "\n",
    "print(f\"{palavra} é palíndromo?\", palindromo)\n",
    "\n",
    "        # completo"
   ]
  },
  {
   "cell_type": "markdown",
   "id": "7a0ff2fc",
   "metadata": {},
   "source": [
    "### 7 - Escreva uma função que recebe duas listas e retorna uma nova lista que é a concatenação das duas."
   ]
  },
  {
   "cell_type": "code",
   "execution_count": 7,
   "id": "3ce93eaf",
   "metadata": {},
   "outputs": [
    {
     "name": "stdout",
     "output_type": "stream",
     "text": [
      "[1, 2, 3, 4, 5, 6, 7, 8, 9, 10]\n"
     ]
    }
   ],
   "source": [
    "list1 = [1, 2, 3, 4, 5]\n",
    "list2 = [6, 7, 8, 9, 10]\n",
    "\n",
    "list1.extend(list2)\n",
    "\n",
    "print (list1)\n",
    "\n",
    "        # completo"
   ]
  },
  {
   "cell_type": "markdown",
   "id": "1616e8c8",
   "metadata": {},
   "source": [
    "### 8 - Escreva uma função que recebe uma lista e dois índices e troca os elementos presentes nos índices fornecidos."
   ]
  },
  {
   "cell_type": "code",
   "execution_count": 1,
   "id": "afa9e00a",
   "metadata": {},
   "outputs": [
    {
     "name": "stdout",
     "output_type": "stream",
     "text": [
      "[25, 40, 35, 30, 45]\n"
     ]
    }
   ],
   "source": [
    " lista = [25, 30, 35, 40, 45]\n",
    "    \n",
    "indice1, indice2 = 1, 3\n",
    "\n",
    "lista[indice1], lista[indice2] = lista[indice2], lista[indice1]\n",
    "\n",
    "print (lista)\n",
    "\n",
    "        # completo"
   ]
  },
  {
   "cell_type": "markdown",
   "id": "d77bef5e",
   "metadata": {},
   "source": [
    "### 9 - Escreva uma função que recebe uma lista e retorna uma nova lista com os elementos invertidos na ordem."
   ]
  },
  {
   "cell_type": "code",
   "execution_count": null,
   "id": "44da2eb8",
   "metadata": {},
   "outputs": [],
   "source": [
    "lista = [1, 2, 3, 4, 5]\n",
    "inverter = lista[::-1]\n",
    "print (f'''\n",
    "Lista: {lista}\n",
    "Lista invertida: {inverter}\n",
    "''')\n",
    "\n",
    "        # completo"
   ]
  },
  {
   "cell_type": "markdown",
   "id": "a840c743",
   "metadata": {},
   "source": [
    "### 10 - Escreva uma função que recebe uma lista de palavras e retorna uma nova lista contendo apenas as palavras únicas, ou seja, palavras que aparecem apenas uma vez na lista."
   ]
  },
  {
   "cell_type": "code",
   "execution_count": 5,
   "id": "0924cdcc",
   "metadata": {},
   "outputs": [
    {
     "name": "stdout",
     "output_type": "stream",
     "text": [
      "Lista sem repetições: {'c++', 'c', 'python', 'java'}\n",
      "['python', 'java', 'python', 'c', 'c++', 'java', 'python']\n"
     ]
    }
   ],
   "source": [
    "palavras = [\"python\", \"java\", \"python\", \"c\", \"c++\", \"java\", \"python\"]\n",
    "\n",
    "# set() = função nativa para não mostrar valores iguais (não exclui esses valores)\n",
    "palavrasUnicas = set(palavras)\n",
    "print (f'Lista sem repetições: {palavrasUnicas}')\n",
    "\n",
    "        # completo"
   ]
  },
  {
   "cell_type": "code",
   "execution_count": null,
   "id": "dc1c1e7c",
   "metadata": {},
   "outputs": [],
   "source": []
  }
 ],
 "metadata": {
  "kernelspec": {
   "display_name": "Python 3 (ipykernel)",
   "language": "python",
   "name": "python3"
  },
  "language_info": {
   "codemirror_mode": {
    "name": "ipython",
    "version": 3
   },
   "file_extension": ".py",
   "mimetype": "text/x-python",
   "name": "python",
   "nbconvert_exporter": "python",
   "pygments_lexer": "ipython3",
   "version": "3.11.3"
  }
 },
 "nbformat": 4,
 "nbformat_minor": 5
}
