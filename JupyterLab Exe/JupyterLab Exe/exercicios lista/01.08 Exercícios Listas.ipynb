{
 "cells": [
  {
   "cell_type": "markdown",
   "metadata": {},
   "source": [
    "# Exercícios\n",
    "\n",
    "## 1. Mudança de Carga Tributária\n",
    "\n",
    "- Reformas e mudanças de cargas tributárias são bem comuns no Brasil.\n",
    "\n",
    "Digamos que você trabalhe em uma empresa de ecommerce\n",
    "\n",
    "No Brasil, o imposto sobre livros é zerado. De um ano para o outro, o governo criou um novo imposto que incide em 10% sobre o valor dos livros e agora você precisa alterar o registro dos preços dos livros da empresa para garantir que esse imposto vai ser repassado para o preço final do produto.\n",
    "\n",
    "Crie um código que recalcule o valor do livro da sua lista de produtos e ajuste na tabela.\n",
    "\n",
    "Além disso, calcule qual vai ser o impacto financeiro da criação desse imposto para a empresa (ou seja, quanto que o imposto vai aumentar de custo para a empresa)\n",
    "\n",
    "Obs: para facilitar, colocamos apenas 1 livro na lista, mas em breve vamos aprender um for que vai adaptar esse cenário para qualquer quantidade de livros na sua lista.\n",
    "\n",
    "Obs2: Seu código deve funcionar mesmo que não haja livros na lista de produtos da empresa"
   ]
  },
  {
   "cell_type": "code",
   "execution_count": 14,
   "metadata": {},
   "outputs": [
    {
     "name": "stdout",
     "output_type": "stream",
     "text": [
      "O ajuste do do produto livro custará para nossa empresa R$200000.00.\n",
      "Lista reajustada: [[10000, 2500], [50000, 44], [7000, 1200], [20000, 1500], [5800, 1300], [7200, 2500], [200, 800], [3300, 700], [1900, 400]]\n"
     ]
    }
   ],
   "source": [
    "produtos = ['computador', 'livro', 'tablet', 'celular', 'tv', 'ar condicionado', 'alexa', 'máquina de café', 'kindle']\n",
    "\n",
    "#cada item da lista dos produtos corresponde a quantidade de vendas no mês e preço, nessa ordem\n",
    "produtosEcommerce = [\n",
    "    [10000, 2500],\n",
    "    [50000, 40],\n",
    "    [7000, 1200],\n",
    "    [20000, 1500],\n",
    "    [5800, 1300],\n",
    "    [7200, 2500],\n",
    "    [200, 800],\n",
    "    [3300, 700],\n",
    "    [1900, 400]\n",
    "]\n",
    "i = produtos.index ('livro')\n",
    "if 'livro' in produtos :\n",
    "    # pegando 10% do valor do livro\n",
    "    valorAtualizado = (produtosEcommerce[i][1]) * 0.10\n",
    "    \n",
    "    # somando o resultado dos 10% ao valor do livro \n",
    "    valorAtualizado = round((produtosEcommerce[i][1]) + valorAtualizado)\n",
    "    \n",
    "    # (vendas livro * valor Atualizado) - (vendas livro * valor antigo do livro)\n",
    "    impacto = ((produtosEcommerce[i][0]) * valorAtualizado) - (produtosEcommerce[i][0] * produtosEcommerce[i][1])\n",
    "    \n",
    "    # alterando o valor do livro para o valor atualizado\n",
    "    produtosEcommerce[i][1] = valorAtualizado\n",
    "    \n",
    "    print (f'O ajuste do do produto livro custará para nossa empresa R${impacto}.00.')\n",
    "    print (f'Lista reajustada: {produtosEcommerce}')\n",
    "    \n",
    "else :   \n",
    "    # caso não tenha 'livro' na lista\n",
    "    print (produtosEcommerce)\n",
    "\n",
    "        # completo"
   ]
  },
  {
   "cell_type": "code",
   "execution_count": null,
   "metadata": {},
   "outputs": [],
   "source": []
  }
 ],
 "metadata": {
  "kernelspec": {
   "display_name": "Python 3 (ipykernel)",
   "language": "python",
   "name": "python3"
  },
  "language_info": {
   "codemirror_mode": {
    "name": "ipython",
    "version": 3
   },
   "file_extension": ".py",
   "mimetype": "text/x-python",
   "name": "python",
   "nbconvert_exporter": "python",
   "pygments_lexer": "ipython3",
   "version": "3.11.3"
  }
 },
 "nbformat": 4,
 "nbformat_minor": 4
}
