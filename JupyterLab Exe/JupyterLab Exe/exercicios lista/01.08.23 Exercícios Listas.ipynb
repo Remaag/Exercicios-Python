{
 "cells": [
  {
   "cell_type": "markdown",
   "metadata": {},
   "source": [
    "# Exercícios\n",
    "\n",
    "## 1. Faturamento do Melhor e do Pior Mês do Ano\n",
    "\n",
    "Qual foi o valor de vendas do melhor mês do Ano?\n",
    "E valor do pior mês do ano?"
   ]
  },
  {
   "cell_type": "code",
   "execution_count": 20,
   "metadata": {},
   "outputs": [
    {
     "name": "stdout",
     "output_type": "stream",
     "text": [
      "Melhor mês de vendas: nov 49051.\n",
      "Menor mês de vendas: jun 9650.\n"
     ]
    }
   ],
   "source": [
    "meses = ['jan', 'fev', 'mar', 'abr', 'mai', 'jun', 'jul', 'ago', 'set', 'out', 'nov', 'dez']\n",
    "vendas1sem = [25000, 29000, 22200, 17750, 15870, 19900]\n",
    "vendas2sem = [19850, 20120, 17540, 15555, 49051, 9650]\n",
    "\n",
    "# juntando as listas\n",
    "vendas1sem.extend(vendas2sem)\n",
    "\n",
    "# pegando o indice da maior venda do ano\n",
    "i1 = vendas1sem.index(max(vendas1sem))\n",
    "\n",
    "# pegando o indice da menor venda do ano\n",
    "i2 = vendas2sem.index(min(vendas1sem))\n",
    "\n",
    "# mostrando a maior venda do ano junto ao mês\n",
    "print(f'Melhor mês de vendas: {meses[i1]} {max(vendas1sem)}.')\n",
    "\n",
    "# mostrando a menor venda do ano junto ao mês\n",
    "print(f'Menor mês de vendas: {meses[i2]} {min(vendas1sem)}.')\n",
    "\n",
    "        # completo"
   ]
  },
  {
   "cell_type": "markdown",
   "metadata": {},
   "source": [
    "## 2. Continuação\n",
    "\n",
    "Agora relacione as duas listas para printar 'O melhor mês do ano foi {} com {} vendas' e o mesmo para o pior mês do ano.\n",
    "\n",
    "Calcule também o faturamento total do Ano e quanto que o melhor mês representou do faturamento total.\n",
    "\n",
    "Obs: Para o faturamento total, pode usar a função sum(lista) que soma todos os itens de uma lista"
   ]
  },
  {
   "cell_type": "code",
   "execution_count": 21,
   "metadata": {},
   "outputs": [
    {
     "name": "stdout",
     "output_type": "stream",
     "text": [
      "Melhor mês de vendas: nov 49051.\n",
      "Menor mês de vendas: jun 9650.\n",
      "Faturamento total do ano: 129720.\n",
      "O mês nov representou 22% no faturamento total do ano.\n"
     ]
    }
   ],
   "source": [
    "meses = ['jan', 'fev', 'mar', 'abr', 'mai', 'jun', 'jul', 'ago', 'set', 'out', 'nov', 'dez']\n",
    "vendas1sem = [25000, 29000, 22200, 17750, 15870, 19900]\n",
    "vendas2sem = [19850, 20120, 17540, 15555, 49051, 9650]\n",
    "faturamento = sum(vendas1sem)\n",
    "maiorValor = max(vendas1sem)\n",
    "\n",
    "# juntando as listas\n",
    "vendas1sem.extend(vendas2sem)\n",
    "\n",
    "# pegando o indice da maior venda do ano\n",
    "i1 = vendas1sem.index(max(vendas1sem))\n",
    "\n",
    "# pegando o indice da menor venda do ano\n",
    "i2 = vendas2sem.index(min(vendas1sem))\n",
    "\n",
    "# mostrando a maior venda do ano junto ao mês\n",
    "print (f'Melhor mês de vendas: {meses[i1]} {max(vendas1sem)}.')\n",
    "\n",
    "# mostrando a menor venda do ano junto ao mês\n",
    "print (f'Menor mês de vendas: {meses[i2]} {min(vendas1sem)}.')\n",
    "\n",
    "# mostrando o faturamento total do ano\n",
    "print (f'Faturamento total do ano: {faturamento}.')\n",
    "\n",
    "# representando quanto o mês representou no ano\n",
    "print (f'O mês {meses[i1]} representou {round((maiorValor * 100) / faturamento)}% no faturamento total do ano.')\n",
    "\n",
    "        # completo"
   ]
  },
  {
   "cell_type": "markdown",
   "metadata": {},
   "source": [
    "## 3. Crie uma lista com o top 3 valores de vendas do ano (sem fazer \"no olho\")\n",
    "\n",
    "Dica: o método remove retira um item da lista."
   ]
  },
  {
   "cell_type": "code",
   "execution_count": 41,
   "metadata": {},
   "outputs": [
    {
     "name": "stdout",
     "output_type": "stream",
     "text": [
      "[[49051, 29000, 25000]]\n"
     ]
    }
   ],
   "source": [
    "vendas1sem = [25000, 29000, 22200, 17750, 15870, 19900]\n",
    "vendas2sem = [19850, 20120, 17540, 15555, 49051, 9650]\n",
    "# juntando as listas\n",
    "vendas1sem.extend(vendas2sem)\n",
    "top3 = []\n",
    "# colocando do maior para o menor\n",
    "vendas1sem.sort(reverse = True)\n",
    "\n",
    "# adicionando os 3 primeiros valores a lista top3\n",
    "top3.append(vendas1sem[0:3])\n",
    "\n",
    "print (top3)\n",
    "\n",
    "        # completo"
   ]
  },
  {
   "cell_type": "code",
   "execution_count": null,
   "metadata": {},
   "outputs": [],
   "source": []
  }
 ],
 "metadata": {
  "kernelspec": {
   "display_name": "Python 3 (ipykernel)",
   "language": "python",
   "name": "python3"
  },
  "language_info": {
   "codemirror_mode": {
    "name": "ipython",
    "version": 3
   },
   "file_extension": ".py",
   "mimetype": "text/x-python",
   "name": "python",
   "nbconvert_exporter": "python",
   "pygments_lexer": "ipython3",
   "version": "3.11.3"
  }
 },
 "nbformat": 4,
 "nbformat_minor": 4
}
