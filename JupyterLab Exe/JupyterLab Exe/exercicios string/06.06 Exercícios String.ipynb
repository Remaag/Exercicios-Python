{
 "cells": [
  {
   "cell_type": "markdown",
   "metadata": {},
   "source": [
    "# Exercícios\n",
    "\n",
    "## 1. Cadastro de CPF\n",
    "\n",
    "Crie um programa para cadastro de CPF de clientes que recebe o CPF em um input box apenas com números.\n",
    "\n",
    "Ex: 'Insira seu CPF (digite apenas números)'\n",
    "\n",
    "Caso o usuário digite algo diferente de números ou digite menos de 11 caracteres (tamanho do CPF brasileiro), o programa deve exibir uma mensagem de \"Digite seu CPF corretamente e digite apenas números\""
   ]
  },
  {
   "cell_type": "code",
   "execution_count": 26,
   "metadata": {},
   "outputs": [
    {
     "name": "stdout",
     "output_type": "stream",
     "text": [
      "Digite seu CPF (somente números) 00000000000\n",
      "O CPF informado é: 00000000000\n"
     ]
    }
   ],
   "source": [
    "# pegando o CPF do individuo\n",
    "cpf = input ('Digite seu CPF (somente números) ')\n",
    "nCpf = len(cpf)\n",
    "             \n",
    "if (nCpf != 11) or (cpf.isnumeric() != True) :\n",
    "    print ('ta errado isso ai menor')\n",
    "    \n",
    "else :\n",
    "    print (f'O CPF informado é: {cpf}')\n",
    "    "
   ]
  },
  {
   "cell_type": "code",
   "execution_count": 21,
   "metadata": {},
   "outputs": [
    {
     "data": {
      "text/plain": [
       "5"
      ]
     },
     "execution_count": 21,
     "metadata": {},
     "output_type": "execute_result"
    }
   ],
   "source": [
    "s1 = \"svdvd\"\n",
    "len (s1)"
   ]
  },
  {
   "cell_type": "code",
   "execution_count": 25,
   "metadata": {},
   "outputs": [
    {
     "name": "stdout",
     "output_type": "stream",
     "text": [
      "True\n"
     ]
    }
   ],
   "source": [
    "text = '1234'\n",
    "print(text.isnumeric())"
   ]
  },
  {
   "cell_type": "markdown",
   "metadata": {},
   "source": [
    "## 2. Melhorando nosso Cadastro de CPF\n",
    "\n",
    "Agora, além das validações anteriores, vamos criar um input que permita que o usuário insira pontos, traços e inclusive espaços vazios.\n",
    "\n",
    "Nosso programa deve \"tratar\" o que o usuário inserir para padronizar o CPF dele em apenas números.\n",
    "\n",
    "A verificação de tamanho do CPF com 11 caracteres continua válida, mas ela só deve ser feita depois de retirar todos os pontos, traços e espaços do CPF que o cliente inserir e, uma vez retirados pontos, traços e espaços, devem sobrar apenas números no CPF. Qualquer outro caractere deve ser considerado inválido.\n",
    "\n",
    "No final, nosso programa deve exibir uma mensagem para o usuário, caso ele tenha inserido o CPF inválido ou então apenas deve printar o CPF correto já só com número."
   ]
  },
  {
   "cell_type": "code",
   "execution_count": 34,
   "metadata": {},
   "outputs": [
    {
     "name": "stdout",
     "output_type": "stream",
     "text": [
      "Digite seu CPF completo123.123.123-34\n",
      "Seu CPF sem nenhuma caractere especial é esse: 12312312334\n"
     ]
    }
   ],
   "source": [
    "# pegando o cpf completo do usuario\n",
    "cpf = input ('Digite seu CPF completo: ')\n",
    "\n",
    "# verificando se o cpf inserido tem alguma letra, caso contrario retira os caracteres especiais\n",
    "if cpf.isnumeric() == False :\n",
    "    print ('Tem algo de errado ai meu rei, escreve só numeros please')\n",
    "else :\n",
    "    cpf = cpf.replace ('.', '')\n",
    "    cpf = cpf.replace ('-', '')\n",
    "    cpf = cpf.replace ('/', '')\n",
    "    cpf = cpf.replace (',', '')\n",
    "    cpf = cpf.strip ()\n",
    "\n",
    "    # pegando quantos caracteres tem no cpf\n",
    "    nCpf = len (cpf)\n",
    "\n",
    "    # verificando se o cpf contem os 11 digitos necessarios para ser válido\n",
    "    if nCpf != 11 :\n",
    "        print ('Ta faltando numero nisso ai meu chefe, confere ae')\n",
    "\n",
    "    else :\n",
    "        print (f'Seu CPF sem nenhuma caractere especial é esse: {cpf}')"
   ]
  },
  {
   "cell_type": "markdown",
   "metadata": {},
   "source": [
    "## 3. Cadastro de e-mails\n",
    "\n",
    "- A Hashtag sempre se comunica com seus clientes por e-mail. Para isso, a gente tem em cada página um cadastro de nome e e-mail. Nesse cadastro, nosso sistema verifica se o e-mail que a pessoa inseriu é um e-mail válido, verificando se ele tem '@' e se depois do '@' tem algum ponto, afinal:\n",
    "\n",
    "- liragmail.com NÃO é um e-mail válido\n",
    "- lira@gmail NÃO é um e-mail válido\n",
    "- lira@gmail.com é um e-mail válido\n",
    "\n",
    "Crie um programa que permita o cadastro de nome e e-mail de uma pessoa (por meio de inputs) e que verifique:\n",
    "1. Se nome e e-mail foram preenchidos, caso contrário ele deve avisar para preencher todos os dados corretamente\n",
    "2. Se o e-mail contém '@' e se depois do '@' existe algum '.', caso contrário ele deve exibir uma mensagem de e-mail inválido\n",
    "\n",
    "Obs: Pode te ajudar lembrar do método .find da aula de Métodos de String. Você pode testar o que ele dá como resposta caso ele não encontre um item dentro da string"
   ]
  },
  {
   "cell_type": "code",
   "execution_count": 17,
   "metadata": {},
   "outputs": [
    {
     "name": "stdout",
     "output_type": "stream",
     "text": [
      "Digite seu nomejaqueline\n",
      "Digite seu emailawefs\n",
      "Esse email é invalido\n"
     ]
    }
   ],
   "source": [
    "nome = input ('Digite seu nome')\n",
    "email = input ('Digite seu email')\n",
    "\n",
    "nome = nome.strip()\n",
    "email = email.strip()\n",
    "\n",
    "# verificando se o nome e email foram preenchidos\n",
    "if len(nome) == 0 or nome.isnumeric() == True or len(email) == 0 :\n",
    "    print ('Favor preencha os campos corretamente')\n",
    "    \n",
    "else :\n",
    "    # verificando se existe algum @ no email informado\n",
    "    if email.count('@') < 1 :\n",
    "        print ('Esse email é invalido')\n",
    "\n",
    "    # vericando se existe algum ponto após o @\n",
    "    elif email.find('.') > email.find('@') :\n",
    "        print (f\"\"\"Nome: {nome}.\n",
    "                   Email inserido: {email}\"\"\")\n",
    "\n",
    "    else :\n",
    "        print ('Essa email é invalido')\n"
   ]
  },
  {
   "cell_type": "code",
   "execution_count": null,
   "metadata": {},
   "outputs": [],
   "source": []
  }
 ],
 "metadata": {
  "kernelspec": {
   "display_name": "Python 3 (ipykernel)",
   "language": "python",
   "name": "python3"
  },
  "language_info": {
   "codemirror_mode": {
    "name": "ipython",
    "version": 3
   },
   "file_extension": ".py",
   "mimetype": "text/x-python",
   "name": "python",
   "nbconvert_exporter": "python",
   "pygments_lexer": "ipython3",
   "version": "3.11.3"
  }
 },
 "nbformat": 4,
 "nbformat_minor": 4
}
