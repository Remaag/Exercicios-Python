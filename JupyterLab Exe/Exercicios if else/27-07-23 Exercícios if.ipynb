{
 "cells": [
  {
   "cell_type": "markdown",
   "metadata": {},
   "source": [
    "# Exercícios com if"
   ]
  },
  {
   "cell_type": "markdown",
   "metadata": {},
   "source": [
    "## 1. Cálculo de Bônus\n",
    "\n",
    "- Crie um programa que calcule e dê um print no bônus que os funcionários devem receber segundo a regra:\n",
    "\n",
    "A meta é 1000 vendas.<br> \n",
    "Se o valor de vendas for maior ou igual a meta, o valor do bônus do funcionário é 10% do valor de vendas.<br>\n",
    "Caso contrário o valor de bônus do funcionário é 0.<br>\n",
    "Print o bônus dos 3 funcionários"
   ]
  },
  {
   "cell_type": "code",
   "execution_count": 5,
   "metadata": {},
   "outputs": [
    {
     "name": "stdout",
     "output_type": "stream",
     "text": [
      "Nome do vendedor: (em minusculo) lara\n",
      "\n",
      "        Nome: lara.\n",
      "        Valor vendido no mês: 2700.\n",
      "        bônus recebido: R$ 270,00.\n",
      "    \n"
     ]
    }
   ],
   "source": [
    "# Variaveis dos funcionarios\n",
    "marcos = 1000\n",
    "julia = 770\n",
    "lara = 2700\n",
    "\n",
    "# meta a ser batida\n",
    "meta = 1000\n",
    "\n",
    "# pegando o nome do vendedor\n",
    "vendedor = input ('Nome do vendedor: (em minusculo) ')\n",
    "\n",
    "# verificando se o nome informado no input corresponde com algum no sistema. Se sim, atribui o valor vendido para a nova variavel\n",
    "if 'lara' in vendedor :\n",
    "    valorVenda = lara\n",
    "    \n",
    "elif 'julia' in vendedor :\n",
    "    valorVenda = julia\n",
    "    \n",
    "elif 'marcos' in vendedor :\n",
    "    valorVenda = marcos\n",
    "    \n",
    "else :\n",
    "    print ('Vendedor não encontrado no sistema, verifique o nome informado e tente novamente')\n",
    "    \n",
    "# calculando quanto de bonus o vendedor irá receber\n",
    "bonus = valorVenda * 0.10\n",
    "bonus = int(bonus)\n",
    "\n",
    "# inprimindo as informações do vendedor baseando-se no valor da venda\n",
    "if valorVenda >= meta :\n",
    "    print (f\"\"\"\n",
    "        Nome: {vendedor}.\n",
    "        Valor vendido no mês: {valorVenda}.\n",
    "        bônus recebido: R$ {bonus},00.\n",
    "    \"\"\")\n",
    "else :\n",
    "    print (f\"\"\"\n",
    "        Nome: {vendedor}.\n",
    "        Valor vendido no mês: {valorVenda}.\n",
    "        bônus recebido: R$ 0,00.\n",
    "    \"\"\")"
   ]
  },
  {
   "cell_type": "raw",
   "metadata": {},
   "source": [
    "Resposta:\n",
    "O funcionário 1 ganhou 100 de bônus\n",
    "O funcionário 2 ganhou 0 de bônus\n",
    "O funcionário 3 ganhou 270 de bônus"
   ]
  },
  {
   "cell_type": "markdown",
   "metadata": {},
   "source": [
    "## 2. Cálculo de bônus com uma nova regra\n",
    "\n",
    "- Agora, crie um novo código que calcule e dê um print no bônus dos funcionários novamente. Porém há uma nova regra nesse 2º caso:\n",
    "\n",
    "A meta é 1000 vendas<br>\n",
    "Agora, os funcionários que venderem muito acima da meta ganham mais bônus do que os outros. Então o bônus é definido da seguinte forma:<br>\n",
    "\n",
    "- Se vendas funcionário for maior ou igual a 2000, então o bônus é de 15% sobre o valor de vendas\n",
    "- Se vendas funcionário for menor do que 2000 e maior ou igual a 1000, então o bônus é de 10% sobre o valor de vendas\n",
    "- Se vendas funcionário for menos do que 1000 então o bônus do funcionário é de 0.\n",
    "\n",
    "Use as mesmas variáveis de vendas_funcionários"
   ]
  },
  {
   "cell_type": "code",
   "execution_count": null,
   "metadata": {},
   "outputs": [],
   "source": [
    "# nova formula de bonus\n"
   ]
  },
  {
   "cell_type": "raw",
   "metadata": {},
   "source": [
    "Resposta:\n",
    "O funcionário 1 ganhou 100 de bônus\n",
    "O funcionário 2 ganhou 0 de bônus\n",
    "O funcionário 3 ganhou 405 de bônus"
   ]
  }
 ],
 "metadata": {
  "kernelspec": {
   "display_name": "Python 3 (ipykernel)",
   "language": "python",
   "name": "python3"
  },
  "language_info": {
   "codemirror_mode": {
    "name": "ipython",
    "version": 3
   },
   "file_extension": ".py",
   "mimetype": "text/x-python",
   "name": "python",
   "nbconvert_exporter": "python",
   "pygments_lexer": "ipython3",
   "version": "3.11.3"
  }
 },
 "nbformat": 4,
 "nbformat_minor": 4
}
