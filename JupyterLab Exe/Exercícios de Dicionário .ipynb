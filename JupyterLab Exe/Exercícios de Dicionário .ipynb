{
 "cells": [
  {
   "cell_type": "markdown",
   "id": "d1096e68",
   "metadata": {},
   "source": [
    "# Exercícios de tuplas "
   ]
  },
  {
   "cell_type": "markdown",
   "id": "32c8fef7",
   "metadata": {},
   "source": [
    "## Esses exercícios ajudarão você a praticar o uso de dicionários em diferentes contextos e situações. Experimente resolver cada um deles para aprimorar suas habilidades em manipulação de dicionários em Python."
   ]
  },
  {
   "cell_type": "markdown",
   "id": "4a90b37f",
   "metadata": {},
   "source": [
    "# Exercício 1: Contagem de Palavras\n",
    "### Crie uma função que recebe uma string como entrada e retorna um dicionário onde as chaves são as palavras da string e os valores são a contagem de vezes que cada palavra aparece."
   ]
  },
  {
   "cell_type": "code",
   "execution_count": 9,
   "id": "ff702f47",
   "metadata": {},
   "outputs": [
    {
     "name": "stdout",
     "output_type": "stream",
     "text": [
      "[{'letra': '', 'quantidade': 0}, {'letra': 'm', 'quantidade': 6}, {'letra': 'm', 'quantidade': 6}, {'letra': 'm', 'quantidade': 6}, {'letra': 'm', 'quantidade': 6}, {'letra': 'm', 'quantidade': 6}, {'letra': 'm', 'quantidade': 6}]\n"
     ]
    }
   ],
   "source": [
    "palavra = input ('Digite uma palavra')\n",
    "\n",
    "palavras = [{'letra': '', 'quantidade': 0}]\n",
    "dicio = {'letra': '', 'quantidade': 0}\n",
    "\n",
    "for i in range (0, len(palavra), 1) :\n",
    "    if palavra[i] in palavras['letra'] :\n",
    "        dicio['quantidade'] += 1\n",
    "    else :\n",
    "        dicio['letra'] = palavra[i]\n",
    "        dicio['quantidade'] += 1\n",
    "        palavras.append(dicio)\n",
    "\n",
    "\n",
    "print (palavras)"
   ]
  },
  {
   "cell_type": "code",
   "execution_count": null,
   "id": "7ad3f0ea",
   "metadata": {},
   "outputs": [],
   "source": []
  },
  {
   "cell_type": "markdown",
   "id": "946d6af0",
   "metadata": {},
   "source": [
    "# Exercício 2: Registro de Alunos\n",
    "### Crie um programa que permite registrar informações sobre alunos, como nome, idade e nota. Use um dicionário para armazenar essas informações e permita que o usuário adicione novos alunos e visualize os detalhes dos alunos existentes."
   ]
  },
  {
   "cell_type": "code",
   "execution_count": 3,
   "id": "4bbebc70",
   "metadata": {},
   "outputs": [
    {
     "name": "stdout",
     "output_type": "stream",
     "text": [
      "{'Alice': {'idade': 20, 'nota': 85}, 'Junior': {'idade': 21, 'nota': 70}, 'Rebeca': {'idade': 19, 'nota': 91}}\n"
     ]
    }
   ],
   "source": [
    "alunos = {}\n",
    "\n",
    "alunos ['Alice'] = {'idade': 20, 'nota': 85}\n",
    "\n",
    "alunos ['Junior'] = {'idade': 21, 'nota': 70}\n",
    "\n",
    "alunos ['Rebeca'] = {'idade': 19, 'nota': 91}\n",
    "\n",
    "print (alunos)\n",
    "\n",
    "        # Completo"
   ]
  },
  {
   "cell_type": "markdown",
   "id": "0a7de75b",
   "metadata": {},
   "source": [
    "# Exercício 3: Tradutor Simples\n",
    "### Crie um dicionário que mapeie algumas palavras em inglês para suas traduções em outro idioma. Peça ao usuário para digitar uma palavra em inglês e exiba a tradução correspondente."
   ]
  },
  {
   "cell_type": "code",
   "execution_count": 1,
   "id": "370a137c",
   "metadata": {},
   "outputs": [
    {
     "name": "stdout",
     "output_type": "stream",
     "text": [
      "Sinto muito, mas a palavra girl não consta em nosso dicionaio, tente outra.\n",
      "A tradução de gold é ouro.\n"
     ]
    }
   ],
   "source": [
    "dicio = {\n",
    "    'hello': 'olá',\n",
    "    'gold': 'ouro',\n",
    "    'guns': 'armas',\n",
    "    'girls': 'garotas',\n",
    "    'good': 'boa',\n",
    "    'night': 'noite'\n",
    "}\n",
    "\n",
    "\n",
    "\n",
    "while True :\n",
    "    palavra = input ('Digite uma palavra em inglês para saber sua tradução')\n",
    "    if palavra in dicio.keys() :\n",
    "        print (f'A tradução de {palavra} é {dicio[palavra]}.')\n",
    "        break\n",
    "\n",
    "    else :\n",
    "        print (f'Sinto muito, mas a palavra {palavra} não consta em nosso dicionaio, tente outra.')\n",
    "        continue\n",
    "\n",
    "    \n",
    "            # Completo"
   ]
  },
  {
   "cell_type": "markdown",
   "id": "d9d590bc",
   "metadata": {},
   "source": [
    "# Exercício 4: Estoque de Produtos\n",
    "### Crie um programa que simule o controle de estoque de uma loja. Use um dicionário onde as chaves são os nomes dos produtos e os valores são as quantidades em estoque. Permita que o usuário adicione ou remova produtos e atualize as quantidades."
   ]
  },
  {
   "cell_type": "code",
   "execution_count": null,
   "id": "f93311d7",
   "metadata": {},
   "outputs": [],
   "source": []
  },
  {
   "cell_type": "markdown",
   "id": "31c34736",
   "metadata": {},
   "source": [
    "# Exercício 5: Contagem de Caracteres\n",
    "### Crie uma função que recebe uma string e retorna um dicionário onde as chaves são os caracteres da string e os valores são a contagem de vezes que cada caracter aparece."
   ]
  },
  {
   "cell_type": "code",
   "execution_count": null,
   "id": "70d8c2c6",
   "metadata": {},
   "outputs": [],
   "source": []
  },
  {
   "cell_type": "markdown",
   "id": "8b8d8f05",
   "metadata": {},
   "source": [
    "# Exercício 6: Agenda de Contatos\n",
    "### Crie um programa que simule uma agenda de contatos. Use um dicionário onde as chaves são os nomes das pessoas e os valores são seus números de telefone. Permita que o usuário adicione, atualize e remova contatos."
   ]
  },
  {
   "cell_type": "code",
   "execution_count": 7,
   "id": "5f5609fe",
   "metadata": {},
   "outputs": [
    {
     "name": "stdout",
     "output_type": "stream",
     "text": [
      "Opções da lista de contatos:\n",
      "\n",
      "\n",
      "        1- Adicionando um contato novo;\n",
      "        2- Atualizar um contato;\n",
      "        3- Remover um contato;\n",
      "        4- Mostrar lista de contatos.\n",
      "    \n",
      "Contato adicionado com suceeso!\n",
      "Opções da lista de contatos:\n",
      "\n",
      "\n",
      "        1- Adicionando um contato novo;\n",
      "        2- Atualizar um contato;\n",
      "        3- Remover um contato;\n",
      "        4- Mostrar lista de contatos.\n",
      "    \n",
      "Opções da lista de contatos:\n",
      "\n",
      "\n",
      "        1- Adicionando um contato novo;\n",
      "        2- Atualizar um contato;\n",
      "        3- Remover um contato;\n",
      "        4- Mostrar lista de contatos.\n",
      "    \n",
      "Opções da lista de contatos:\n",
      "\n",
      "\n",
      "        1- Adicionando um contato novo;\n",
      "        2- Atualizar um contato;\n",
      "        3- Remover um contato;\n",
      "        4- Mostrar lista de contatos.\n",
      "    \n",
      "Opções da lista de contatos:\n",
      "\n",
      "\n",
      "        1- Adicionando um contato novo;\n",
      "        2- Atualizar um contato;\n",
      "        3- Remover um contato;\n",
      "        4- Mostrar lista de contatos.\n",
      "    \n",
      "Opções da lista de contatos:\n",
      "\n",
      "\n",
      "        1- Adicionando um contato novo;\n",
      "        2- Atualizar um contato;\n",
      "        3- Remover um contato;\n",
      "        4- Mostrar lista de contatos.\n",
      "    \n",
      "Opções da lista de contatos:\n",
      "\n",
      "\n",
      "        1- Adicionando um contato novo;\n",
      "        2- Atualizar um contato;\n",
      "        3- Remover um contato;\n",
      "        4- Mostrar lista de contatos.\n",
      "    \n",
      "dict_keys(['Julia'])\n",
      "Contato atualizado com sucesso!\n",
      "Opções da lista de contatos:\n",
      "\n",
      "\n",
      "        1- Adicionando um contato novo;\n",
      "        2- Atualizar um contato;\n",
      "        3- Remover um contato;\n",
      "        4- Mostrar lista de contatos.\n",
      "    \n",
      "dict_keys(['Julia'])\n",
      "Contato 879 foi removido com sucesso!\n",
      "Opções da lista de contatos:\n",
      "\n",
      "\n",
      "        1- Adicionando um contato novo;\n",
      "        2- Atualizar um contato;\n",
      "        3- Remover um contato;\n",
      "        4- Mostrar lista de contatos.\n",
      "    \n",
      "Opções da lista de contatos:\n",
      "\n",
      "\n",
      "        1- Adicionando um contato novo;\n",
      "        2- Atualizar um contato;\n",
      "        3- Remover um contato;\n",
      "        4- Mostrar lista de contatos.\n",
      "    \n"
     ]
    }
   ],
   "source": [
    "contatos = {}\n",
    "# dict.update({key:value})\n",
    "opcao = ''\n",
    "\n",
    "while opcao != '5' :\n",
    "    print ('Opções da lista de contatos:' + '\\n')\n",
    "    print (f'''\n",
    "        1- Adicionando um contato novo;\n",
    "        2- Atualizar um contato;\n",
    "        3- Remover um contato;\n",
    "        4- Mostrar lista de contatos.\n",
    "    ''')\n",
    "    opcao = input ('Opção desejada: ')\n",
    "    \n",
    "    if opcao == '1' :\n",
    "        nome = input ('Nome do contato novo')\n",
    "        numero = input ('Numero do contato')\n",
    "        contatos.update({nome:numero})\n",
    "        print ('Contato adicionado com suceeso!')\n",
    "\n",
    "    if opcao == '2' :\n",
    "        print (contatos.keys())\n",
    "        nome = input ('Qual contato deseja atualizar: ')\n",
    "        \n",
    "        if nome in contatos :\n",
    "            numero = input ('Novo número: ')\n",
    "            contatos[nome] = numero\n",
    "            print ('Contato atualizado com sucesso!')\n",
    "\n",
    "        else :\n",
    "            print (f'Contato {nome} não encontrado.')\n",
    "\n",
    "    if opcao == '3' :\n",
    "        print (contatos.keys())\n",
    "        nome = input ('Qual contato deseja remover da lista de contatos: ')\n",
    "\n",
    "        if nome in contatos:\n",
    "            removido = contatos.pop(nome)\n",
    "            print (f'Contato {removido} foi removido com sucesso!')\n",
    "\n",
    "        else :\n",
    "            print (f'Contato {nome} não encontrado.')\n",
    "\n",
    "\n",
    "\n",
    "print (contatos)"
   ]
  },
  {
   "cell_type": "markdown",
   "id": "dfe9aa0c",
   "metadata": {},
   "source": [
    "# Exercício 7: Notas de Alunos\n",
    "### Crie um programa que permite registrar as notas de alunos em várias disciplinas. Use um dicionário aninhado, onde as chaves externas são os nomes dos alunos e as chaves internas são as disciplinas. Permita que o usuário adicione notas e visualize as médias dos alunos."
   ]
  },
  {
   "cell_type": "code",
   "execution_count": null,
   "id": "8e10caaa",
   "metadata": {},
   "outputs": [],
   "source": []
  },
  {
   "cell_type": "markdown",
   "id": "c81f0cb4",
   "metadata": {},
   "source": [
    "# Exercício 8: Contagem de Letras em Palavras\n",
    "### Crie uma função que recebe uma lista de palavras e retorna um dicionário onde as chaves são as letras presentes nas palavras e os valores são a contagem total de vezes que cada letra aparece."
   ]
  },
  {
   "cell_type": "code",
   "execution_count": null,
   "id": "5f058fef",
   "metadata": {},
   "outputs": [],
   "source": []
  },
  {
   "cell_type": "markdown",
   "id": "ac2a2456",
   "metadata": {},
   "source": [
    "# Exercício 9: Calculadora de Despesas\n",
    "### Crie um programa que simule o controle de despesas de um grupo de amigos. Use um dicionário onde as chaves são os nomes dos amigos e os valores são listas de despesas. Permita que o usuário adicione despesas e calcule quanto cada pessoa deve pagar."
   ]
  },
  {
   "cell_type": "code",
   "execution_count": 3,
   "id": "9987e73e",
   "metadata": {},
   "outputs": [
    {
     "name": "stdout",
     "output_type": "stream",
     "text": [
      "Opções de ações:\n",
      "        1 - Adicionar despesa a algum participante;\n",
      "        2 - Lista de despesas;\n",
      "        3 - Parar programa. \n",
      "         \n",
      "    \n",
      "dict_keys(['Junior', 'Ana', 'Kleber', 'Arin'])\n",
      "Valor atualizado com sucesso! \n",
      "\n",
      "Opções de ações:\n",
      "        1 - Adicionar despesa a algum participante;\n",
      "        2 - Lista de despesas;\n",
      "        3 - Parar programa. \n",
      "         \n",
      "    \n",
      "dict_keys(['Junior', 'Ana', 'Kleber', 'Arin'])\n",
      "Valor atualizado com sucesso! \n",
      "\n",
      "Opções de ações:\n",
      "        1 - Adicionar despesa a algum participante;\n",
      "        2 - Lista de despesas;\n",
      "        3 - Parar programa. \n",
      "         \n",
      "    \n",
      "dict_keys(['Junior', 'Ana', 'Kleber', 'Arin'])\n",
      "Partiipante dabo não encontrado, verifique o nome e tente novamente. \n",
      "\n",
      "Opções de ações:\n",
      "        1 - Adicionar despesa a algum participante;\n",
      "        2 - Lista de despesas;\n",
      "        3 - Parar programa. \n",
      "         \n",
      "    \n",
      "dict_keys(['Junior', 'Ana', 'Kleber', 'Arin'])\n",
      "Valor atualizado com sucesso! \n",
      "\n",
      "Opções de ações:\n",
      "        1 - Adicionar despesa a algum participante;\n",
      "        2 - Lista de despesas;\n",
      "        3 - Parar programa. \n",
      "         \n",
      "    \n",
      "dict_keys(['Junior', 'Ana', 'Kleber', 'Arin'])\n",
      "Valor atualizado com sucesso! \n",
      "\n",
      "Opções de ações:\n",
      "        1 - Adicionar despesa a algum participante;\n",
      "        2 - Lista de despesas;\n",
      "        3 - Parar programa. \n",
      "         \n",
      "    \n",
      "dict_keys(['Junior', 'Ana', 'Kleber', 'Arin'])\n",
      "Valor atualizado com sucesso! \n",
      "\n",
      "Opções de ações:\n",
      "        1 - Adicionar despesa a algum participante;\n",
      "        2 - Lista de despesas;\n",
      "        3 - Parar programa. \n",
      "         \n",
      "    \n",
      "dict_keys(['Junior', 'Ana', 'Kleber', 'Arin'])\n",
      "Valor atualizado com sucesso! \n",
      "\n",
      "Opções de ações:\n",
      "        1 - Adicionar despesa a algum participante;\n",
      "        2 - Lista de despesas;\n",
      "        3 - Parar programa. \n",
      "         \n",
      "    \n",
      "Lista de participantes e suas despesas:\n",
      "dict_items([('Junior', 600), ('Ana', 495), ('Kleber', 870), ('Arin', 13821)]) \n",
      "\n",
      "Opções de ações:\n",
      "        1 - Adicionar despesa a algum participante;\n",
      "        2 - Lista de despesas;\n",
      "        3 - Parar programa. \n",
      "         \n",
      "    \n",
      "Programa encerrado. \n",
      "\n"
     ]
    }
   ],
   "source": [
    "amigos = {\n",
    "    'Junior': 0,\n",
    "    'Ana': 0,\n",
    "    'Kleber': 0,\n",
    "    'Arin': 0,    \n",
    "}\n",
    "\n",
    "opcao = ''\n",
    "\n",
    "while opcao != 3:\n",
    "    print ('''Opções de ações:\n",
    "        1 - Adicionar despesa a algum participante;\n",
    "        2 - Lista de despesas;\n",
    "        3 - Parar programa. \\n         \n",
    "    ''')\n",
    "    opcao = int ( input ('Digite a opção desejada'))\n",
    "\n",
    "# Função para adicionar despesas a um participante\n",
    "    if opcao == 1 :\n",
    "        print (amigos.keys())\n",
    "        pessoa = input ('Qual nome do participante no qual deseja  adicionar despesas?')\n",
    "\n",
    "        if pessoa in amigos :\n",
    "            valor = int (input (f'Valor a ser adicionado nas despesas de {pessoa}'))\n",
    "            amigos[pessoa] += valor\n",
    "            print (f'Valor atualizado com sucesso! \\n')\n",
    "\n",
    "    # caso o nome inserido não conste na lista/dicionario de participantes      \n",
    "        else :\n",
    "            print (f'Partiipante {pessoa} não encontrado, verifique o nome e tente novamente. \\n')\n",
    "\n",
    "# Função para mostrar os participantes e suas despesas\n",
    "    elif opcao == 2 :\n",
    "        print ('Lista de participantes e suas despesas:')\n",
    "        print (amigos.items(), '\\n')\n",
    "\n",
    "# Função para encerrar programa\n",
    "    elif opcao == 3 :\n",
    "        print ('Programa encerrado. \\n')\n",
    "\n",
    "# Aviso de opção não encontrada\n",
    "    else :\n",
    "        print (f'Opção {opcao} não encontrada. Tente uma presente nas opções listadas. \\n')\n",
    "\n",
    "        # Completo\n"
   ]
  },
  {
   "cell_type": "markdown",
   "id": "07c1ee0b",
   "metadata": {},
   "source": [
    "# Exercício 10: Jogo de Trívia\n",
    "### Crie um jogo de trívia em que o programa faz perguntas e o usuário responde. Use um dicionário onde as chaves são as perguntas e os valores são as respostas corretas. Mostre as perguntas ao usuário, solicite a resposta e informe se ele acertou ou errou."
   ]
  },
  {
   "cell_type": "code",
   "execution_count": 1,
   "id": "0d47f9f5",
   "metadata": {},
   "outputs": [
    {
     "ename": "AttributeError",
     "evalue": "'dict' object has no attribute 'value'",
     "output_type": "error",
     "traceback": [
      "\u001b[1;31m---------------------------------------------------------------------------\u001b[0m",
      "\u001b[1;31mAttributeError\u001b[0m                            Traceback (most recent call last)",
      "\u001b[1;32mc:\\Users\\Aluno 9\\Desktop\\JupyterLab Exe\\exercicios dicionario\\Exercícios de Dicionário .ipynb Célula 23\u001b[0m line \u001b[0;36m1\n\u001b[0;32m     <a href='vscode-notebook-cell:/c%3A/Users/Aluno%209/Desktop/JupyterLab%20Exe/exercicios%20dicionario/Exerc%C3%ADcios%20de%20Dicion%C3%A1rio%20.ipynb#X31sZmlsZQ%3D%3D?line=12'>13</a>\u001b[0m         pontos \u001b[39m+\u001b[39m\u001b[39m=\u001b[39m \u001b[39m1\u001b[39m\n\u001b[0;32m     <a href='vscode-notebook-cell:/c%3A/Users/Aluno%209/Desktop/JupyterLab%20Exe/exercicios%20dicionario/Exerc%C3%ADcios%20de%20Dicion%C3%A1rio%20.ipynb#X31sZmlsZQ%3D%3D?line=14'>15</a>\u001b[0m     \u001b[39melse\u001b[39;00m :\n\u001b[1;32m---> <a href='vscode-notebook-cell:/c%3A/Users/Aluno%209/Desktop/JupyterLab%20Exe/exercicios%20dicionario/Exerc%C3%ADcios%20de%20Dicion%C3%A1rio%20.ipynb#X31sZmlsZQ%3D%3D?line=15'>16</a>\u001b[0m         \u001b[39mprint\u001b[39m (\u001b[39mf\u001b[39m\u001b[39m'\u001b[39m\u001b[39mAh que peninha, a resposta certa era \u001b[39m\u001b[39m{\u001b[39;00mrespostas\u001b[39m.\u001b[39;49mvalue()\u001b[39m}\u001b[39;00m\u001b[39m'\u001b[39m)\n\u001b[0;32m     <a href='vscode-notebook-cell:/c%3A/Users/Aluno%209/Desktop/JupyterLab%20Exe/exercicios%20dicionario/Exerc%C3%ADcios%20de%20Dicion%C3%A1rio%20.ipynb#X31sZmlsZQ%3D%3D?line=17'>18</a>\u001b[0m \u001b[39mprint\u001b[39m (\u001b[39mf\u001b[39m\u001b[39m'\u001b[39m\u001b[39mFim do trívia, você fez \u001b[39m\u001b[39m{\u001b[39;00mpontos\u001b[39m}\u001b[39;00m\u001b[39m pontos.\u001b[39m\u001b[39m'\u001b[39m)\n",
      "\u001b[1;31mAttributeError\u001b[0m: 'dict' object has no attribute 'value'"
     ]
    }
   ],
   "source": [
    "respostas = {\n",
    "    'Qual é a maior lenda hurbana do minecraft?': 'herobrine',\n",
    "    'Qual o boss final do minecraft?' : 'ender dragon',\n",
    "    'Primeiro item que você geralmente coleta no mine?' : 'madeira'\n",
    "    }\n",
    "pontos = 0\n",
    "\n",
    "for i in respostas.keys() :\n",
    "    resposta = input (i)\n",
    "\n",
    "    if resposta == respostas.values() :\n",
    "        print ('Parabéns, resposta correta')\n",
    "        pontos += 1\n",
    "\n",
    "    else :\n",
    "        print (f'Ah que peninha, a resposta certa era {respostas[i]}')\n",
    "\n",
    "print (f'Fim do trívia, você fez {pontos} pontos.')"
   ]
  },
  {
   "cell_type": "code",
   "execution_count": null,
   "id": "d7c8b220",
   "metadata": {},
   "outputs": [],
   "source": []
  }
 ],
 "metadata": {
  "kernelspec": {
   "display_name": "Python 3 (ipykernel)",
   "language": "python",
   "name": "python3"
  },
  "language_info": {
   "codemirror_mode": {
    "name": "ipython",
    "version": 3
   },
   "file_extension": ".py",
   "mimetype": "text/x-python",
   "name": "python",
   "nbconvert_exporter": "python",
   "pygments_lexer": "ipython3",
   "version": "3.11.4"
  }
 },
 "nbformat": 4,
 "nbformat_minor": 5
}
