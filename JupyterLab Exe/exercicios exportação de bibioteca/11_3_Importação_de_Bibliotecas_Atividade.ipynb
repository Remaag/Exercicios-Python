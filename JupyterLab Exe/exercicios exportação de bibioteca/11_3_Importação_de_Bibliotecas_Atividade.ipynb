{
  "cells": [
    {
      "cell_type": "markdown",
      "metadata": {},
      "source": [
        "# Como exportar bibiotecas\n",
        "\n",
        "from minha_classe import MinhaClasse, minha_funcao"
      ]
    },
    {
      "cell_type": "markdown",
      "metadata": {
        "id": "7cSjkBggT5jc"
      },
      "source": [
        "# **Exercício 1:**\n",
        "\n",
        "---\n",
        "\n",
        "Faça um programa que calcule a raiz quadrada de um número inteiro fornecido pelo usuário. Utilize a biblioteca math para realizar o cálculo."
      ]
    },
    {
      "cell_type": "code",
      "execution_count": 1,
      "metadata": {
        "id": "Z_bnJxYGT0_o"
      },
      "outputs": [
        {
          "ename": "ValueError",
          "evalue": "invalid literal for int() with base 10: ''",
          "output_type": "error",
          "traceback": [
            "\u001b[1;31m---------------------------------------------------------------------------\u001b[0m",
            "\u001b[1;31mValueError\u001b[0m                                Traceback (most recent call last)",
            "\u001b[1;32mc:\\Users\\Aluno 9\\Desktop\\JupyterLab Exe\\exercicios exportação de bibioteca\\11_3_Importação_de_Bibliotecas_Atividade.ipynb Célula 3\u001b[0m line \u001b[0;36m3\n\u001b[0;32m      <a href='vscode-notebook-cell:/c%3A/Users/Aluno%209/Desktop/JupyterLab%20Exe/exercicios%20exporta%C3%A7%C3%A3o%20de%20bibioteca/11_3_Importa%C3%A7%C3%A3o_de_Bibliotecas_Atividade.ipynb#W2sZmlsZQ%3D%3D?line=0'>1</a>\u001b[0m \u001b[39mimport\u001b[39;00m \u001b[39mmath\u001b[39;00m\n\u001b[1;32m----> <a href='vscode-notebook-cell:/c%3A/Users/Aluno%209/Desktop/JupyterLab%20Exe/exercicios%20exporta%C3%A7%C3%A3o%20de%20bibioteca/11_3_Importa%C3%A7%C3%A3o_de_Bibliotecas_Atividade.ipynb#W2sZmlsZQ%3D%3D?line=2'>3</a>\u001b[0m n \u001b[39m=\u001b[39m \u001b[39mint\u001b[39;49m (\u001b[39minput\u001b[39;49m (\u001b[39m'\u001b[39;49m\u001b[39mDigite um número para saber sua raiz quadrada\u001b[39;49m\u001b[39m'\u001b[39;49m))\n\u001b[0;32m      <a href='vscode-notebook-cell:/c%3A/Users/Aluno%209/Desktop/JupyterLab%20Exe/exercicios%20exporta%C3%A7%C3%A3o%20de%20bibioteca/11_3_Importa%C3%A7%C3%A3o_de_Bibliotecas_Atividade.ipynb#W2sZmlsZQ%3D%3D?line=4'>5</a>\u001b[0m x \u001b[39m=\u001b[39m math\u001b[39m.\u001b[39misqrt(n)\n\u001b[0;32m      <a href='vscode-notebook-cell:/c%3A/Users/Aluno%209/Desktop/JupyterLab%20Exe/exercicios%20exporta%C3%A7%C3%A3o%20de%20bibioteca/11_3_Importa%C3%A7%C3%A3o_de_Bibliotecas_Atividade.ipynb#W2sZmlsZQ%3D%3D?line=6'>7</a>\u001b[0m \u001b[39mprint\u001b[39m (\u001b[39mf\u001b[39m\u001b[39m'\u001b[39m\u001b[39mA raiz quadrada de \u001b[39m\u001b[39m{\u001b[39;00mn\u001b[39m}\u001b[39;00m\u001b[39m é \u001b[39m\u001b[39m{\u001b[39;00mx\u001b[39m}\u001b[39;00m\u001b[39m.\u001b[39m\u001b[39m'\u001b[39m)\n",
            "\u001b[1;31mValueError\u001b[0m: invalid literal for int() with base 10: ''"
          ]
        }
      ],
      "source": [
        "import math\n",
        "\n",
        "n = int (input ('Digite um número para saber sua raiz quadrada'))\n",
        "\n",
        "x = math.isqrt(n)\n",
        "\n",
        "print (f'A raiz quadrada de {n} é {x}.')\n",
        "\n",
        "        # Completo"
      ]
    },
    {
      "cell_type": "markdown",
      "metadata": {
        "id": "Sa1-LWktUG_z"
      },
      "source": [
        "# **Exercício 2:**\n",
        "\n",
        "---\n",
        "\n",
        "Crie um programa que gere um número aleatório entre 1 e 100 e peça ao usuário para adivinhar qual é esse número. Utilize a biblioteca random para gerar o número aleatório."
      ]
    },
    {
      "cell_type": "code",
      "execution_count": null,
      "metadata": {
        "id": "9iOJpg0_ULDC"
      },
      "outputs": [
        {
          "name": "stdout",
          "output_type": "stream",
          "text": [
            "33\n"
          ]
        }
      ],
      "source": [
        "import random\n",
        "\n",
        "n = random.randint(1, 100)\n",
        "\n",
        "print (n)\n",
        "\n",
        "        # Completo"
      ]
    },
    {
      "cell_type": "markdown",
      "metadata": {
        "id": "vrAwGLX3UXLq"
      },
      "source": [
        "# **Exercício 3:**\n",
        "\n",
        "---\n",
        "Crie um programa que simule um lançamento de dados. O programa deve gerar um número aleatório entre 1 e 6, representando o valor do dado. Utilizar função randint da biblioteca random"
      ]
    },
    {
      "cell_type": "code",
      "execution_count": null,
      "metadata": {
        "id": "h2MVf6arUdtz"
      },
      "outputs": [
        {
          "name": "stdout",
          "output_type": "stream",
          "text": [
            "[2, 6, 6, 3, 5, 1, 2, 4]\n",
            "Soma dos dados é: 29\n"
          ]
        }
      ],
      "source": [
        "import random\n",
        "\n",
        "dados = []\n",
        "\n",
        "quant = int (input ('Quantos d6 deseja rolar?'))\n",
        "\n",
        "for i in range (0, quant, 1) :\n",
        "    n = random.randint(1, 6)\n",
        "    dados.append(n)\n",
        "\n",
        "print (dados)\n",
        "print (f'Soma dos dados é: {sum(dados)}')\n",
        "\n",
        "        # Completo"
      ]
    },
    {
      "cell_type": "markdown",
      "metadata": {
        "id": "RA7LpHIHUgcT"
      },
      "source": [
        "# **Exercício 4:**\n",
        "\n",
        "---\n",
        "Faça um programa que calcule a área de um círculo. O usuário deve fornecer o raio do círculo como entrada. Utilize a biblioteca math para obter o valor de π (pi)."
      ]
    },
    {
      "cell_type": "code",
      "execution_count": null,
      "metadata": {
        "colab": {
          "base_uri": "https://localhost:8080/"
        },
        "id": "P5X-NK9gUmJT",
        "outputId": "f9a9a301-c690-444f-feb2-7aa5a3695429"
      },
      "outputs": [
        {
          "name": "stdout",
          "output_type": "stream",
          "text": [
            "A área do círculo é: 25446.900494077323. \n",
            "Arredondando é: 25447\n"
          ]
        }
      ],
      "source": [
        "import math\n",
        "\n",
        "r = int (input ('Informe o raio do círculo para descobrir sua área'))\n",
        "\n",
        "a = math.pi * (r **2)\n",
        "\n",
        "print (f'A área do círculo é: {a}. \\nArredondando é: {round(a)}.')\n",
        "\n",
        "        # Completo"
      ]
    },
    {
      "cell_type": "markdown",
      "metadata": {
        "id": "8hhvsHCOUn9T"
      },
      "source": [
        "# **Exercício 5:**\n",
        "\n",
        "---\n",
        "Crie um programa que solicite ao usuário um nome de arquivo e, em seguida, leia o conteúdo desse arquivo e conte quantas palavras diferentes existem no texto. Utilize Counter da biblioteca collections para ajudar na contagem.\n",
        "\n",
        "python\n",
        "C"
      ]
    },
    {
      "cell_type": "markdown",
      "metadata": {},
      "source": [
        "###     Character / Meaning\n",
        "    'r'         Leitura\n",
        "    'w'         Escrita. Substitui o conteúdo do arquivo existente\n",
        "    'x'         Escrita. Retorna um erro caso o arquivo já exista\n",
        "    'a'         Escrita. Insere os novos dados no final do arquivo\n",
        "    'b'         Modo binário\n",
        "    't'         Modo de texto (padrão)\n",
        "    '+'         Atualizar. Tanto leitura quanto escrita\n"
      ]
    },
    {
      "cell_type": "code",
      "execution_count": null,
      "metadata": {
        "id": "01QBl5HWU2xj"
      },
      "outputs": [
        {
          "name": "stdout",
          "output_type": "stream",
          "text": [
            "Counter({'Tem exatas 7 palavras diferentes nesse arquivo.': 1})\n"
          ]
        }
      ],
      "source": [
        "from collections import Counter\n",
        "\n",
        "arquivo = open ('Texto Exercicio5.txt', 'r')\n",
        "\n",
        "texto = (arquivo)\n",
        "\n",
        "print (texto)"
      ]
    },
    {
      "cell_type": "markdown",
      "metadata": {
        "id": "-xrV_RJ9U_g7"
      },
      "source": [
        "# **Exercício 6:**\n",
        "\n",
        "---\n",
        "Crie um programa que solicite ao usuário uma lista de números separados por vírgula e exiba a média desses números. Utilize a função mean da biblioteca statistics."
      ]
    },
    {
      "cell_type": "code",
      "execution_count": null,
      "metadata": {
        "id": "0gGOdi8mVFAL"
      },
      "outputs": [
        {
          "name": "stdout",
          "output_type": "stream",
          "text": [
            "3905\n"
          ]
        }
      ],
      "source": [
        "from statistics import mean\n",
        "\n",
        "numeros = [12,6456,15,864,1345,9764,12,6688,9986]\n",
        "\n",
        "media = mean(numeros)\n",
        "\n",
        "print(round(media))\n",
        "\n",
        "        # Completo\n"
      ]
    },
    {
      "cell_type": "markdown",
      "metadata": {
        "id": "CO26JglHXDPs"
      },
      "source": [
        "# **Exercício 7:**\n",
        "\n",
        "---\n",
        "Crie um programa usando a biblioteca tkinter que exiba uma janela com um botão. Quando o botão for clicado, exiba uma mensagem de saudação usando a função messagebox.showinfo().\n"
      ]
    },
    {
      "cell_type": "code",
      "execution_count": null,
      "metadata": {
        "id": "UQTtWO8SVf7S"
      },
      "outputs": [
        {
          "data": {
            "text/plain": [
              "'ok'"
            ]
          },
          "execution_count": 3,
          "metadata": {},
          "output_type": "execute_result"
        }
      ],
      "source": [
        "from tkinter import *\n",
        "from tkinter import messagebox\n",
        "\n",
        "messagebox.showinfo('Titulinho', 'Fala dele')\n",
        "\n",
        "        # Completo"
      ]
    },
    {
      "cell_type": "markdown",
      "metadata": {
        "id": "0raBCu6fXafW"
      },
      "source": [
        "# **Exercício 8:**\n",
        "\n",
        "---\n",
        "Crie um programa usando a biblioteca tkinter que exiba uma janela com um rótulo de texto e um campo de entrada. Quando o botão for clicado, obtenha o texto do campo de entrada usando a função .get() e exiba uma mensagem de boas-vindas personalizada usando a função messagebox.showinfo().\n"
      ]
    },
    {
      "cell_type": "code",
      "execution_count": null,
      "metadata": {
        "id": "UgiISJlkXexi"
      },
      "outputs": [],
      "source": [
        "from tkinter import *\n",
        "from tkinter import messagebox\n",
        "\n",
        "main = Tk()\n",
        "\n",
        "def submit():\n",
        "    messagebox.askquestion('Tituluzin', 'Responde algo ae')\n",
        "\n",
        "main.geometry ('100x100')\n",
        "\n",
        "b1 = Button(main, text = 'Submit', command = submit)\n",
        "\n",
        "b1.pack()\n",
        "\n",
        "main.mainloop()"
      ]
    },
    {
      "cell_type": "code",
      "execution_count": 40,
      "metadata": {},
      "outputs": [],
      "source": [
        "import tkinter as tk\n",
        "from tkinter import messagebox\n",
        "\n",
        "def exibir() :\n",
        "    nome = inputNome.get()\n",
        "    messagebox.showinfo('Menssagem', f'Seha bem-vindo(a) {nome}.')\n",
        "\n",
        "question = tk.Tk()\n",
        "question.title('Informe')\n",
        "question.geometry('450x300')\n",
        "\n",
        "name = tk.Label (question, text = 'Digite seu nome')\n",
        "name.pack()\n",
        "\n",
        "inputNome = tk.Entry (question, width = 30)\n",
        "inputNome.pack()\n",
        "\n",
        "submit = tk.Button (question, text = 'Enviar', command = exibir)\n",
        "submit.pack()\n",
        "\n",
        "\n",
        "question.mainloop()\n",
        "\n",
        "        # Completo"
      ]
    },
    {
      "cell_type": "markdown",
      "metadata": {
        "id": "0NytGTyOXjtD"
      },
      "source": [
        "# **Exercício 9:**\n",
        "\n",
        "---\n",
        "Crie um programa usando a biblioteca tkinter que exiba uma janela com uma caixa de seleção e um botão. Quando o botão for clicado, obtenha a opção selecionada da caixa de seleção usando a variável associada e exiba-a em uma caixa de diálogo usando a função messagebox.showinfo()."
      ]
    },
    {
      "cell_type": "code",
      "execution_count": 31,
      "metadata": {
        "id": "n7LtC33EXpuy"
      },
      "outputs": [],
      "source": [
        "import tkinter as tk\n",
        "from tkinter import messagebox\n",
        "\n",
        "# Criando o formulario\n",
        "form = tk.Tk()\n",
        "form.title = 'Escolha uma das classes'\n",
        "\n",
        "# Declaração das variaveis label\n",
        "# pega o valor (string) armazenado \n",
        "#txt = StringVar()\n",
        "msg = 'Você escolheu a classe:'\n",
        "msg2 = 'Sua Classe'\n",
        "form.geometry = ('200x200')\n",
        "\n",
        "# Declaração dos itens do menu\n",
        "def menuGuerreiro() :\n",
        "    messagebox.showinfo(msg2, f'{msg} Guerreiro')\n",
        "\n",
        "def menuBruxo() :\n",
        "    messagebox.showinfo(msg2, f'{msg}Bruxo')\n",
        "\n",
        "def menuLadino() :\n",
        "    messagebox.showinfo(msg2, f'{msg} Ladino')\n",
        "    \n",
        "\n",
        "# função para criar um menuzinho clicando com o botão direito do mouse\n",
        "# def popUp (event) : PopUpMenu.post(event.x_root, event.y_root)\n",
        "\n",
        "# Criando o botões\n",
        "guerreiro = tk.Button (form, text = 'Guerreiro', command = menuGuerreiro)\n",
        "guerreiro.pack()\n",
        "\n",
        "bruxo = tk.Button (form, text = 'Bruxo', command = menuBruxo)\n",
        "bruxo.pack()\n",
        "\n",
        "ladino = tk.Button (form, text = 'Ladino', command = menuLadino)\n",
        "ladino.pack()\n",
        "\n",
        "\n",
        "mainloop()\n",
        "\n",
        "        # Completo\n"
      ]
    },
    {
      "cell_type": "markdown",
      "metadata": {
        "id": "qoozLEBUZeDa"
      },
      "source": [
        "# **Exercício 10:**\n",
        "\n",
        "---\n",
        "Crie um programa que utilize a biblioteca pandas para ler um arquivo CSV chamado \"dados.csv\". O arquivo contém uma coluna chamada \"idade\". Calcule a média das idades utilizando o método .mean() e exiba o resultado.\n",
        "\n",
        "[Link para a Documentação do Pandas](https://pandas.pydata.org/docs/reference/api/pandas.read_csv.html)\n"
      ]
    },
    {
      "cell_type": "code",
      "execution_count": 3,
      "metadata": {
        "id": "56Mo2YGCZjg5"
      },
      "outputs": [
        {
          "name": "stdout",
          "output_type": "stream",
          "text": [
            "A média das idade é: 40.7\n"
          ]
        }
      ],
      "source": [
        "import pandas as pd\n",
        "\n",
        "# variavel = bibliotecaPandasComoPd.lerArquivoCsv('arquivo a ser lido')\n",
        "lerIdades = pd.read_csv('idades.csv')\n",
        "\n",
        "mediaIdades = lerIdades['Idade'].mean()\n",
        "\n",
        "print(f'A média das idade é: {mediaIdades}')\n",
        "\n",
        "        # Completo\n"
      ]
    },
    {
      "cell_type": "markdown",
      "metadata": {
        "id": "CrGJ4bNpZkl5"
      },
      "source": [
        "# **Exercício 11:**\n",
        "\n",
        "---\n",
        "Crie um programa que utilize as bibliotecas pandas e matplotlib para ler um arquivo CSV chamado \"dados.csv\". O arquivo contém duas colunas: \"nome\" e \"pontuacao\". Exiba um gráfico de barras utilizando o método .bar() do matplotlib.pyplot, passando os nomes como valores no eixo x e as pontuações como valores no eixo y.\n",
        "\n",
        "[Link para a Documentação do Pandas](https://pandas.pydata.org/docs/reference/api/pandas.read_csv.html)\n",
        "\n",
        "[Link para a documentação do matplotlib](https://matplotlib.org/stable/api/_as_gen/matplotlib.pyplot.bar.html)"
      ]
    },
    {
      "cell_type": "code",
      "execution_count": 3,
      "metadata": {
        "id": "fX2Psu7AaNBT"
      },
      "outputs": [
        {
          "data": {
            "image/png": "[encoded data removed]",
            "text/plain": [
              "<Figure size 640x480 with 1 Axes>"
            ]
          },
          "metadata": {},
          "output_type": "display_data"
        }
      ],
      "source": [
        "import pandas as pd\n",
        "import matplotlib.pyplot as plt\n",
        "lerDados = pd.read_csv('dados.csv')\n",
        "\n",
        "x = lerDados['Nome']\n",
        "y = lerDados['Pontuação']\n",
        "\n",
        "fig, ax = plt.subplots()\n",
        "\n",
        "ax.bar(x, y)\n",
        "\n",
        "plt.show()\n",
        "\n",
        "        # Completo"
      ]
    }
  ],
  "metadata": {
    "colab": {
      "provenance": []
    },
    "kernelspec": {
      "display_name": "Python 3",
      "name": "python3"
    },
    "language_info": {
      "codemirror_mode": {
        "name": "ipython",
        "version": 3
      },
      "file_extension": ".py",
      "mimetype": "text/x-python",
      "name": "python",
      "nbconvert_exporter": "python",
      "pygments_lexer": "ipython3",
      "version": "3.11.3"
    }
  },
  "nbformat": 4,
  "nbformat_minor": 0
}
